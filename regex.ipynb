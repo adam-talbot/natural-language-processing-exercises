{
 "cells": [
  {
   "cell_type": "markdown",
   "id": "572d4fa7-396f-470c-9820-505dd09586c2",
   "metadata": {},
   "source": [
    "# Regex Exercises"
   ]
  },
  {
   "cell_type": "code",
   "execution_count": 2,
   "id": "ad341269-b268-4dc9-91df-c2e3cd4cdecf",
   "metadata": {},
   "outputs": [],
   "source": [
    "import pandas as pd\n",
    "import re"
   ]
  },
  {
   "cell_type": "markdown",
   "id": "d900ff00-302a-472c-a1e1-c34fbe5e6459",
   "metadata": {},
   "source": [
    "## 1."
   ]
  },
  {
   "cell_type": "markdown",
   "id": "87df8f3c-14d8-4669-8d7f-3052ca927407",
   "metadata": {},
   "source": [
    "Write a function named is_vowel. It should accept a string as input and use a regular expression to determine if the passed string is a vowel. While not explicity mentioned in the lesson, you can treat the result of re.search as a boolean value that indicates whether or not the regular expression matches the given string."
   ]
  },
  {
   "cell_type": "code",
   "execution_count": 11,
   "id": "b4156807-13c6-4568-bfaa-4ea1e4065a0e",
   "metadata": {},
   "outputs": [],
   "source": [
    "def isvowel(string):\n",
    "    regexp = r'[aeiou]'\n",
    "    subject = string\n",
    "    if re.search(regexp, subject, re.IGNORECASE) is None:\n",
    "        return False\n",
    "    else:\n",
    "        return True"
   ]
  },
  {
   "cell_type": "code",
   "execution_count": 14,
   "id": "06308bec-05da-456f-a917-98d0e170d268",
   "metadata": {},
   "outputs": [
    {
     "data": {
      "text/plain": [
       "True"
      ]
     },
     "execution_count": 14,
     "metadata": {},
     "output_type": "execute_result"
    }
   ],
   "source": [
    "isvowel('A')"
   ]
  },
  {
   "cell_type": "markdown",
   "id": "4c1f0d89-5fa2-49a7-b719-b78c0b2ed826",
   "metadata": {},
   "source": [
    "## 2."
   ]
  },
  {
   "cell_type": "markdown",
   "id": "5bf01c32-fe21-458c-8ebb-061a1f854e34",
   "metadata": {},
   "source": [
    "Write a function named is_valid_username that accepts a string as input. A valid username starts with a lowercase letter, and only consists of lowercase letters, numbers, or the _ character. It should also be no longer than 32 characters. The function should return either True or False depending on whether the passed string is a valid username.\n",
    "\n",
    "Test strings:\n",
    "- is_valid_username('aaaaaaaaaaaaaaaaaaaaaaaaaaaaaaaaa')\n",
    "    - False\n",
    "- is_valid_username('codeup')\n",
    "    - True\n",
    "- is_valid_username('Codeup')\n",
    "    - False\n",
    "- is_valid_username('codeup123')\n",
    "    - True\n",
    "- is_valid_username('1codeup')\n",
    "    - False"
   ]
  },
  {
   "cell_type": "code",
   "execution_count": 37,
   "id": "d2b23929-db84-4643-bb18-248d7dbccf16",
   "metadata": {},
   "outputs": [],
   "source": [
    "def is_valid_username(string):\n",
    "    regexp = r'^[a-z][a-z0-9_]{0,31}$'\n",
    "    subject = string\n",
    "    if re.search(regexp, subject) is None:\n",
    "        return False\n",
    "    else:\n",
    "        return True"
   ]
  },
  {
   "cell_type": "code",
   "execution_count": 40,
   "id": "3b9558eb-ea9b-4056-b69c-c7014d7041d6",
   "metadata": {},
   "outputs": [
    {
     "data": {
      "text/plain": [
       "True"
      ]
     },
     "execution_count": 40,
     "metadata": {},
     "output_type": "execute_result"
    }
   ],
   "source": [
    "is_valid_username('co_eup123_')"
   ]
  },
  {
   "cell_type": "markdown",
   "id": "7b339025-cf30-4d69-8a5f-5c67bf7f8a1e",
   "metadata": {},
   "source": [
    "## 3."
   ]
  },
  {
   "cell_type": "markdown",
   "id": "05363200-2f19-4a47-981b-defe531ccba9",
   "metadata": {},
   "source": [
    "Write a regular expression to capture phone numbers. It should match all of the following:\n",
    "- (210) 867 5309\n",
    "- +1 210.867.5309\n",
    "- 867-5309\n",
    "- 210-867-5309"
   ]
  },
  {
   "cell_type": "code",
   "execution_count": 50,
   "id": "e438ad61-59d4-49c4-8af6-707c875ea7c0",
   "metadata": {},
   "outputs": [],
   "source": [
    "def phone_number(string):\n",
    "    regexp = r'\\+?\\d?\\s?\\(?(\\d{3})?\\)?\\s?-?\\.?(\\d{3})\\s?-?\\.?\\.?(\\d{4})'\n",
    "    subject = string\n",
    "    if re.search(regexp, subject) is None:\n",
    "        return False\n",
    "    else:\n",
    "        return True"
   ]
  },
  {
   "cell_type": "code",
   "execution_count": 54,
   "id": "63978938-720f-40f1-930d-f2fe41ecea19",
   "metadata": {},
   "outputs": [
    {
     "data": {
      "text/plain": [
       "True"
      ]
     },
     "execution_count": 54,
     "metadata": {},
     "output_type": "execute_result"
    }
   ],
   "source": [
    "phone_number('210-867-5309')"
   ]
  },
  {
   "cell_type": "markdown",
   "id": "02050c50-7a12-44d6-8cec-e87a05be05d0",
   "metadata": {},
   "source": [
    "## 4."
   ]
  },
  {
   "cell_type": "markdown",
   "id": "e71133e3-d303-435d-835b-798819d722b5",
   "metadata": {},
   "source": [
    "Use regular expressions to convert the dates below to the standardized year-month-day format.\n",
    "- 02/04/19\n",
    "- 02/05/19\n",
    "- 02/06/19\n",
    "- 02/07/19\n",
    "- 02/08/19\n",
    "- 02/09/19\n",
    "- 02/10/19"
   ]
  },
  {
   "cell_type": "code",
   "execution_count": 55,
   "id": "98de3e6a-3eb0-4930-a695-1027d93d549a",
   "metadata": {},
   "outputs": [],
   "source": [
    "dates = pd.Series(['02/04/19', '02/05/19', '02/06/19', '02/07/19', '02/08/19', '02/09/19', '02/10/19'])"
   ]
  },
  {
   "cell_type": "code",
   "execution_count": 61,
   "id": "f4138609-9cd2-4598-81e5-b6cf06d58a46",
   "metadata": {},
   "outputs": [
    {
     "name": "stderr",
     "output_type": "stream",
     "text": [
      "<ipython-input-61-c6e146995257>:2: FutureWarning: The default value of regex will change from True to False in a future version.\n",
      "  dates.str.replace(regexp, r'20\\3/\\1/\\2')\n"
     ]
    },
    {
     "data": {
      "text/plain": [
       "0    2019/02/04\n",
       "1    2019/02/05\n",
       "2    2019/02/06\n",
       "3    2019/02/07\n",
       "4    2019/02/08\n",
       "5    2019/02/09\n",
       "6    2019/02/10\n",
       "dtype: object"
      ]
     },
     "execution_count": 61,
     "metadata": {},
     "output_type": "execute_result"
    }
   ],
   "source": [
    "regexp = r'(\\d{2})/(\\d{2})/(\\d{2})'\n",
    "dates.str.replace(regexp, r'20\\3/\\1/\\2')"
   ]
  },
  {
   "cell_type": "markdown",
   "id": "ff7aa071-492f-4fd8-8e0f-867a1de5e73f",
   "metadata": {},
   "source": [
    "## 5."
   ]
  },
  {
   "cell_type": "markdown",
   "id": "5a84d66b-ee7b-4a94-9a37-426a5541e09c",
   "metadata": {},
   "source": [
    "Write a regex to extract the various parts of these logfile lines:\n",
    "- GET /api/v1/sales?page=86 [16/Apr/2019:193452+0000] HTTP/1.1 {200} 510348 \"python-requests/2.21.0\" 97.105.19.58\n",
    "- POST /users_accounts/file-upload [16/Apr/2019:193452+0000] HTTP/1.1 {201} 42 \"User-Agent: Mozilla/5.0 (X11; Fedora; Fedora; Linux x86_64) AppleWebKit/537.36 (KHTML, like Gecko) Chrome/73.0.3683.86 Safari/537.36\" 97.105.19.58\n",
    "- GET /api/v1/items?page=3 [16/Apr/2019:193453+0000] HTTP/1.1 {429} 3561 \"python-requests/2.21.0\" 97.105.19.58"
   ]
  },
  {
   "cell_type": "code",
   "execution_count": 62,
   "id": "c5b89239-2b1d-4115-8e9c-567c7f8805e1",
   "metadata": {},
   "outputs": [],
   "source": [
    "regexp = \"^(?P<request>[A-Z]+)\\s[^=\\s]+=?(?P<page>\\d+)?\\s(?P<timestamp>\\[.+\\])\\sHTTP?/(?P<http_version>\\d.\\d)\\s(?P<code>\\{\\d{3}\\})\\s\\d+\\s\\\"(?P<user_agent>.+)\\\"\\s(?P<ip>.+)$\""
   ]
  }
 ],
 "metadata": {
  "kernelspec": {
   "display_name": "Python 3",
   "language": "python",
   "name": "python3"
  },
  "language_info": {
   "codemirror_mode": {
    "name": "ipython",
    "version": 3
   },
   "file_extension": ".py",
   "mimetype": "text/x-python",
   "name": "python",
   "nbconvert_exporter": "python",
   "pygments_lexer": "ipython3",
   "version": "3.8.8"
  }
 },
 "nbformat": 4,
 "nbformat_minor": 5
}
