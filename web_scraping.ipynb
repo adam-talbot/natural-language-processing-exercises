{
 "cells": [
  {
   "cell_type": "markdown",
   "id": "455a346e-b156-4c08-933b-f221c5b63523",
   "metadata": {},
   "source": [
    "# Mini Exercises"
   ]
  },
  {
   "cell_type": "code",
   "execution_count": 18,
   "id": "8d1cd743-102f-471c-bfe4-db4aba513541",
   "metadata": {},
   "outputs": [],
   "source": [
    "import requests\n",
    "from bs4 import BeautifulSoup\n",
    "import pandas as pd"
   ]
  },
  {
   "cell_type": "markdown",
   "id": "d00d88e8-e649-4c13-a5d3-10364b25e424",
   "metadata": {},
   "source": [
    "## News Article Scraping"
   ]
  },
  {
   "cell_type": "code",
   "execution_count": 24,
   "id": "ffafe7cf-101b-475a-ad5b-31492d32c60a",
   "metadata": {},
   "outputs": [],
   "source": [
    "# make the HTTP request\n",
    "response = requests.get('https://web-scraping-demo.zgulde.net/news')"
   ]
  },
  {
   "cell_type": "code",
   "execution_count": 31,
   "id": "9ce13105-b2ce-4336-a27a-22eeb7fa4d3a",
   "metadata": {},
   "outputs": [],
   "source": [
    "# pull the text out of the response\n",
    "html = response.text"
   ]
  },
  {
   "cell_type": "code",
   "execution_count": 30,
   "id": "dbece3cd-0671-4589-9581-57456142e8a5",
   "metadata": {},
   "outputs": [],
   "source": [
    "# pass HTML into Beautiful Soup\n",
    "soup = BeautifulSoup(html)"
   ]
  },
  {
   "cell_type": "code",
   "execution_count": 32,
   "id": "174fc622-355f-4f80-9427-8d659df3fd88",
   "metadata": {},
   "outputs": [],
   "source": [
    "# locate the articles using inspect feature of web browser to pull out desired parts of page using tags\n",
    "articles = soup.select('.grid.grid-cols-4.gap-x-4.border')"
   ]
  },
  {
   "cell_type": "code",
   "execution_count": 34,
   "id": "3f005e81-5c7a-4e59-a81a-b146b7a31474",
   "metadata": {},
   "outputs": [
    {
     "data": {
      "text/plain": [
       "12"
      ]
     },
     "execution_count": 34,
     "metadata": {},
     "output_type": "execute_result"
    }
   ],
   "source": [
    "len(articles)"
   ]
  },
  {
   "cell_type": "code",
   "execution_count": 46,
   "id": "c0f7f9d2-6685-40f2-b7cd-2a7f28c3bb5a",
   "metadata": {},
   "outputs": [
    {
     "data": {
      "text/plain": [
       "<div class=\"grid grid-cols-4 gap-x-4 border rounded pr-3 bg-green-50 hover:shadow-lg transition duration-500\">\n",
       "<img src=\"/static/placeholder.png\"/>\n",
       "<div class=\"col-span-3 space-y-3 py-3\">\n",
       "<h2 class=\"text-2xl text-green-900\">middle meeting cover</h2>\n",
       "<div class=\"grid grid-cols-2 italic\">\n",
       "<p> 2020-04-28 </p>\n",
       "<p class=\"text-right\">By Charles Parker </p>\n",
       "</div>\n",
       "<p>Brother them grow feeling pull certain. Particular artist draw region.\n",
       "Participant wide college someone information follow between. Can arm return media west or first. Natural once require occur full. Return official history modern pass rise talk.</p>\n",
       "</div>\n",
       "</div>"
      ]
     },
     "execution_count": 46,
     "metadata": {},
     "output_type": "execute_result"
    }
   ],
   "source": [
    "articles[0]"
   ]
  },
  {
   "cell_type": "code",
   "execution_count": 66,
   "id": "fb7cf23b-ea07-4200-adee-c22fe5c1e1cc",
   "metadata": {},
   "outputs": [
    {
     "data": {
      "text/plain": [
       "'middle meeting cover'"
      ]
     },
     "execution_count": 66,
     "metadata": {},
     "output_type": "execute_result"
    }
   ],
   "source": [
    "# get title\n",
    "articles[0].h2.text"
   ]
  },
  {
   "cell_type": "code",
   "execution_count": 75,
   "id": "245afa72-fae3-47a7-9d1e-b23183440135",
   "metadata": {},
   "outputs": [
    {
     "data": {
      "text/plain": [
       "(<p> 2020-04-28 </p>, <p class=\"text-right\">By Charles Parker </p>)"
      ]
     },
     "execution_count": 75,
     "metadata": {},
     "output_type": "execute_result"
    }
   ],
   "source": [
    "# get data and author\n",
    "date, author = articles[0].select('.italic')[0].find_all('p')\n",
    "date, author"
   ]
  },
  {
   "cell_type": "code",
   "execution_count": 71,
   "id": "1724c3ca-7023-4f23-bdf3-9f63008704b7",
   "metadata": {},
   "outputs": [
    {
     "data": {
      "text/plain": [
       "'Brother them grow feeling pull certain. Particular artist draw region.\\nParticipant wide college someone information follow between. Can arm return media west or first. Natural once require occur full. Return official history modern pass rise talk.'"
      ]
     },
     "execution_count": 71,
     "metadata": {},
     "output_type": "execute_result"
    }
   ],
   "source": [
    "# get paragraph\n",
    "articles[0].find_all('p')[-1].text"
   ]
  },
  {
   "cell_type": "code",
   "execution_count": 76,
   "id": "057b504b-cb64-447a-ae07-ef52afa239e3",
   "metadata": {},
   "outputs": [],
   "source": [
    "# put into a function\n",
    "def parse_news(article):\n",
    "    title = article.h2.text\n",
    "    date, author = article.select('.italic')[0].find_all('p')\n",
    "    paragraph = article.find_all('p')[-1].text\n",
    "    return {'title' : title, 'date' : date.text, 'author' : author.text, 'paragraph' : paragraph}"
   ]
  },
  {
   "cell_type": "code",
   "execution_count": 78,
   "id": "b65f04b0-d49a-4860-bdce-36eea44af394",
   "metadata": {},
   "outputs": [
    {
     "data": {
      "text/html": [
       "<div>\n",
       "<style scoped>\n",
       "    .dataframe tbody tr th:only-of-type {\n",
       "        vertical-align: middle;\n",
       "    }\n",
       "\n",
       "    .dataframe tbody tr th {\n",
       "        vertical-align: top;\n",
       "    }\n",
       "\n",
       "    .dataframe thead th {\n",
       "        text-align: right;\n",
       "    }\n",
       "</style>\n",
       "<table border=\"1\" class=\"dataframe\">\n",
       "  <thead>\n",
       "    <tr style=\"text-align: right;\">\n",
       "      <th></th>\n",
       "      <th>title</th>\n",
       "      <th>date</th>\n",
       "      <th>author</th>\n",
       "      <th>paragraph</th>\n",
       "    </tr>\n",
       "  </thead>\n",
       "  <tbody>\n",
       "    <tr>\n",
       "      <th>0</th>\n",
       "      <td>middle meeting cover</td>\n",
       "      <td>2020-04-28</td>\n",
       "      <td>By Charles Parker</td>\n",
       "      <td>Brother them grow feeling pull certain. Partic...</td>\n",
       "    </tr>\n",
       "    <tr>\n",
       "      <th>1</th>\n",
       "      <td>bar beyond attack</td>\n",
       "      <td>2006-04-03</td>\n",
       "      <td>By Anthony Ray</td>\n",
       "      <td>Government wonder knowledge cost tonight. Ligh...</td>\n",
       "    </tr>\n",
       "    <tr>\n",
       "      <th>2</th>\n",
       "      <td>certainly half edge</td>\n",
       "      <td>1972-02-05</td>\n",
       "      <td>By Leah Coleman</td>\n",
       "      <td>Quality work condition war though certain. Fas...</td>\n",
       "    </tr>\n",
       "    <tr>\n",
       "      <th>3</th>\n",
       "      <td>behind car usually</td>\n",
       "      <td>2008-02-10</td>\n",
       "      <td>By Mark Johnson</td>\n",
       "      <td>Run certainly issue sense interview. For hundr...</td>\n",
       "    </tr>\n",
       "    <tr>\n",
       "      <th>4</th>\n",
       "      <td>institution toward knowledge</td>\n",
       "      <td>1995-07-18</td>\n",
       "      <td>By Andre Berger</td>\n",
       "      <td>Camera travel not white set evening. Usually t...</td>\n",
       "    </tr>\n",
       "    <tr>\n",
       "      <th>5</th>\n",
       "      <td>outside suggest experience</td>\n",
       "      <td>2019-12-20</td>\n",
       "      <td>By Paula Adams</td>\n",
       "      <td>Exist check particularly food need laugh. Arti...</td>\n",
       "    </tr>\n",
       "    <tr>\n",
       "      <th>6</th>\n",
       "      <td>loss south front</td>\n",
       "      <td>1983-03-01</td>\n",
       "      <td>By Ronald Alvarez</td>\n",
       "      <td>Painting former fish contain accept. Less char...</td>\n",
       "    </tr>\n",
       "    <tr>\n",
       "      <th>7</th>\n",
       "      <td>single whom find</td>\n",
       "      <td>2003-09-14</td>\n",
       "      <td>By Sarah Flores</td>\n",
       "      <td>Middle tough business.\\nUs say moment general ...</td>\n",
       "    </tr>\n",
       "    <tr>\n",
       "      <th>8</th>\n",
       "      <td>every factor character</td>\n",
       "      <td>1980-10-27</td>\n",
       "      <td>By Samantha Foster</td>\n",
       "      <td>Generation difference live science trouble org...</td>\n",
       "    </tr>\n",
       "    <tr>\n",
       "      <th>9</th>\n",
       "      <td>practice number support</td>\n",
       "      <td>1976-07-04</td>\n",
       "      <td>By Jose Douglas</td>\n",
       "      <td>Service race poor part near later. Price Ameri...</td>\n",
       "    </tr>\n",
       "    <tr>\n",
       "      <th>10</th>\n",
       "      <td>maintain go interest</td>\n",
       "      <td>2010-08-19</td>\n",
       "      <td>By Christopher Potts</td>\n",
       "      <td>Walk shake source city fill wish notice. Pick ...</td>\n",
       "    </tr>\n",
       "    <tr>\n",
       "      <th>11</th>\n",
       "      <td>begin dream deep</td>\n",
       "      <td>1993-08-16</td>\n",
       "      <td>By Steven Williams</td>\n",
       "      <td>Check discussion animal might war western. Siz...</td>\n",
       "    </tr>\n",
       "  </tbody>\n",
       "</table>\n",
       "</div>"
      ],
      "text/plain": [
       "                           title          date                 author  \\\n",
       "0           middle meeting cover   2020-04-28      By Charles Parker    \n",
       "1              bar beyond attack   2006-04-03         By Anthony Ray    \n",
       "2            certainly half edge   1972-02-05        By Leah Coleman    \n",
       "3             behind car usually   2008-02-10        By Mark Johnson    \n",
       "4   institution toward knowledge   1995-07-18        By Andre Berger    \n",
       "5     outside suggest experience   2019-12-20         By Paula Adams    \n",
       "6               loss south front   1983-03-01      By Ronald Alvarez    \n",
       "7               single whom find   2003-09-14        By Sarah Flores    \n",
       "8         every factor character   1980-10-27     By Samantha Foster    \n",
       "9        practice number support   1976-07-04        By Jose Douglas    \n",
       "10          maintain go interest   2010-08-19   By Christopher Potts    \n",
       "11              begin dream deep   1993-08-16     By Steven Williams    \n",
       "\n",
       "                                            paragraph  \n",
       "0   Brother them grow feeling pull certain. Partic...  \n",
       "1   Government wonder knowledge cost tonight. Ligh...  \n",
       "2   Quality work condition war though certain. Fas...  \n",
       "3   Run certainly issue sense interview. For hundr...  \n",
       "4   Camera travel not white set evening. Usually t...  \n",
       "5   Exist check particularly food need laugh. Arti...  \n",
       "6   Painting former fish contain accept. Less char...  \n",
       "7   Middle tough business.\\nUs say moment general ...  \n",
       "8   Generation difference live science trouble org...  \n",
       "9   Service race poor part near later. Price Ameri...  \n",
       "10  Walk shake source city fill wish notice. Pick ...  \n",
       "11  Check discussion animal might war western. Siz...  "
      ]
     },
     "execution_count": 78,
     "metadata": {},
     "output_type": "execute_result"
    }
   ],
   "source": [
    "pd.DataFrame([parse_news(article) for article in articles])"
   ]
  },
  {
   "cell_type": "markdown",
   "id": "3bf7555d-2700-493e-8d3f-a131c03000d0",
   "metadata": {},
   "source": [
    "## Contact Info Scraping"
   ]
  },
  {
   "cell_type": "code",
   "execution_count": 79,
   "id": "4cfee43b-77cd-41aa-9c28-1d572e732af0",
   "metadata": {},
   "outputs": [],
   "source": [
    "# make the HTTP request\n",
    "response = requests.get('https://web-scraping-demo.zgulde.net/people')"
   ]
  },
  {
   "cell_type": "code",
   "execution_count": 80,
   "id": "d7344fb9-40a2-4c1b-912c-ef9cbcfb05cd",
   "metadata": {},
   "outputs": [],
   "source": [
    "# pull the text out of the response\n",
    "html = response.text"
   ]
  },
  {
   "cell_type": "code",
   "execution_count": 81,
   "id": "e74087d8-0b1f-4c3b-b356-ce8b630c4e7a",
   "metadata": {},
   "outputs": [],
   "source": [
    "# pass HTML into Beautiful Soup\n",
    "soup = BeautifulSoup(html)"
   ]
  },
  {
   "cell_type": "code",
   "execution_count": 84,
   "id": "bb53e7cc-b97c-46be-95a2-00512489cc67",
   "metadata": {},
   "outputs": [],
   "source": [
    "people = soup.select('.person.border.rounded.px-3')"
   ]
  },
  {
   "cell_type": "code",
   "execution_count": 85,
   "id": "6b27bc80-204a-4146-86d2-21ea167d77e5",
   "metadata": {},
   "outputs": [
    {
     "data": {
      "text/plain": [
       "10"
      ]
     },
     "execution_count": 85,
     "metadata": {},
     "output_type": "execute_result"
    }
   ],
   "source": [
    "len(people)"
   ]
  },
  {
   "cell_type": "code",
   "execution_count": 89,
   "id": "37f940a5-2ea5-4bac-81a8-473e70ace1a1",
   "metadata": {},
   "outputs": [
    {
     "data": {
      "text/plain": [
       "'Jacob Middleton'"
      ]
     },
     "execution_count": 89,
     "metadata": {},
     "output_type": "execute_result"
    }
   ],
   "source": [
    "# get name\n",
    "people[0].h2.text"
   ]
  },
  {
   "cell_type": "code",
   "execution_count": 145,
   "id": "b21f209b-76c0-492f-86f2-d0ce5b35e2e0",
   "metadata": {},
   "outputs": [
    {
     "data": {
      "text/plain": [
       "'Jacob Middleton'"
      ]
     },
     "execution_count": 145,
     "metadata": {},
     "output_type": "execute_result"
    }
   ],
   "source": [
    "# another way to get it\n",
    "people[0].select('.name')[0].text"
   ]
  },
  {
   "cell_type": "code",
   "execution_count": 124,
   "id": "f82a9704-cfc5-4cf8-ac9f-034d0ecb2ce9",
   "metadata": {},
   "outputs": [
    {
     "data": {
      "text/plain": [
       "'\"Balanced high-level matrix\"'"
      ]
     },
     "execution_count": 124,
     "metadata": {},
     "output_type": "execute_result"
    }
   ],
   "source": [
    "# get tag line\n",
    "people[0].p.text.strip()"
   ]
  },
  {
   "cell_type": "code",
   "execution_count": 149,
   "id": "041c5374-d713-4a22-9841-363636be1dda",
   "metadata": {},
   "outputs": [
    {
     "data": {
      "text/plain": [
       "'\"Balanced high-level matrix\"'"
      ]
     },
     "execution_count": 149,
     "metadata": {},
     "output_type": "execute_result"
    }
   ],
   "source": [
    "# another way to get it\n",
    "people[0].select('.quote')[0].text.strip()"
   ]
  },
  {
   "cell_type": "code",
   "execution_count": 102,
   "id": "8acfd0af-d3ed-4983-9c10-915417b8fc13",
   "metadata": {},
   "outputs": [
    {
     "data": {
      "text/plain": [
       "'andrewrivera@hotmail.com'"
      ]
     },
     "execution_count": 102,
     "metadata": {},
     "output_type": "execute_result"
    }
   ],
   "source": [
    "# get email address\n",
    "people[0].select('.grid.grid-cols-9')[0].p.text"
   ]
  },
  {
   "cell_type": "code",
   "execution_count": 152,
   "id": "3d6b01b1-20ac-4de6-9141-d8b3f8059ac2",
   "metadata": {},
   "outputs": [
    {
     "data": {
      "text/plain": [
       "'andrewrivera@hotmail.com'"
      ]
     },
     "execution_count": 152,
     "metadata": {},
     "output_type": "execute_result"
    }
   ],
   "source": [
    "# another way\n",
    "people[0].select('.email')[0].text"
   ]
  },
  {
   "cell_type": "code",
   "execution_count": 110,
   "id": "768a1d03-165c-4a02-9bf9-2b1ab6517065",
   "metadata": {},
   "outputs": [
    {
     "data": {
      "text/plain": [
       "'001-444-789-7536x68632'"
      ]
     },
     "execution_count": 110,
     "metadata": {},
     "output_type": "execute_result"
    }
   ],
   "source": [
    "# get phone number\n",
    "people[0].select('.grid.grid-cols-9')[0].find_all('p')[1].text"
   ]
  },
  {
   "cell_type": "code",
   "execution_count": 153,
   "id": "a5a7eaeb-c2ea-4ed8-9b58-aca4a78d9481",
   "metadata": {},
   "outputs": [
    {
     "data": {
      "text/plain": [
       "<div class=\"person border rounded px-3 py-5 grid grid-cols-2 gap-x-3 bg-purple-50 hover:shadow-lg transition duration-500\">\n",
       "<h2 class=\"text-2xl text-purple-800 name col-span-full border-b\">Jacob Middleton</h2>\n",
       "<p class=\"quote col-span-full px-5 py-5 text-center text-gray-500\">\n",
       "            \"Balanced high-level matrix\"\n",
       "        </p>\n",
       "<div class=\"grid grid-cols-9\">\n",
       "<i class=\"bi bi-envelope-fill text-purple-800\"></i>\n",
       "<p class=\"email col-span-8\">andrewrivera@hotmail.com</p>\n",
       "<i class=\"bi bi-telephone-fill text-purple-800\"></i>\n",
       "<p class=\"phone col-span-8\">001-444-789-7536x68632</p>\n",
       "</div>\n",
       "<div class=\"address grid grid-cols-9\">\n",
       "<i class=\"bi bi-geo-fill text-purple-800\"></i>\n",
       "<p class=\"col-span-8\">\n",
       "                1617 Lauren Track <br/>\n",
       "                Spencerchester, OK 49034\n",
       "            </p>\n",
       "</div>\n",
       "</div>"
      ]
     },
     "execution_count": 153,
     "metadata": {},
     "output_type": "execute_result"
    }
   ],
   "source": [
    "people[0]"
   ]
  },
  {
   "cell_type": "code",
   "execution_count": 156,
   "id": "797442ac-8f84-4566-a85d-f17a399f9ef2",
   "metadata": {},
   "outputs": [
    {
     "data": {
      "text/plain": [
       "'001-444-789-7536x68632'"
      ]
     },
     "execution_count": 156,
     "metadata": {},
     "output_type": "execute_result"
    }
   ],
   "source": [
    "# another way\n",
    "people[0].select('.phone')[0].text"
   ]
  },
  {
   "cell_type": "code",
   "execution_count": 131,
   "id": "b3cdf69d-36e5-4afe-8ce7-1221bdbe7fd0",
   "metadata": {},
   "outputs": [
    {
     "data": {
      "text/plain": [
       "'1617 Lauren Track \\n                Spencerchester, OK 49034'"
      ]
     },
     "execution_count": 131,
     "metadata": {},
     "output_type": "execute_result"
    }
   ],
   "source": [
    "# find address\n",
    "address = people[0].select('.address')[0].p.text.strip()\n",
    "address"
   ]
  },
  {
   "cell_type": "code",
   "execution_count": 161,
   "id": "0caef011-39de-4ff4-b0c1-9ecd1b9a83ff",
   "metadata": {},
   "outputs": [
    {
     "data": {
      "text/plain": [
       "'1617 Lauren Track \\n                Spencerchester, OK 49034'"
      ]
     },
     "execution_count": 161,
     "metadata": {},
     "output_type": "execute_result"
    }
   ],
   "source": [
    "# another way\n",
    "people[0].select('.address')[0].text.strip()"
   ]
  },
  {
   "cell_type": "code",
   "execution_count": 132,
   "id": "742bec20-8153-4bb7-b399-a71b1bf66673",
   "metadata": {},
   "outputs": [],
   "source": [
    "import re"
   ]
  },
  {
   "cell_type": "code",
   "execution_count": 135,
   "id": "27bb574d-53a2-4174-a2cd-b7fb21dfa511",
   "metadata": {},
   "outputs": [
    {
     "data": {
      "text/plain": [
       "'1617 Lauren Track, Spencerchester, OK 49034'"
      ]
     },
     "execution_count": 135,
     "metadata": {},
     "output_type": "execute_result"
    }
   ],
   "source": [
    "# use regex to clean up white spaces\n",
    "re.sub(r'\\s{2,}', ', ', address)"
   ]
  },
  {
   "cell_type": "code",
   "execution_count": 162,
   "id": "6a26af85-be2e-491b-9ad2-2a23adff071c",
   "metadata": {},
   "outputs": [],
   "source": [
    "def parse_people(person):\n",
    "    name = person.h2.text\n",
    "    tag_line = person.p.text.strip()\n",
    "    email = person.select('.email')[0].text\n",
    "    phone = person.select('.phone')[0].text\n",
    "    address = person.select('.address')[0].text.strip()\n",
    "    address = re.sub(r'\\s{2,}', ', ', address)\n",
    "    return {\n",
    "        'name' : name,\n",
    "        'tag_line' : tag_line,\n",
    "        'email' : email,\n",
    "        'phone' : phone,\n",
    "        'address' : address\n",
    "    }"
   ]
  },
  {
   "cell_type": "code",
   "execution_count": 163,
   "id": "fd8a344a-990c-43bf-a7ae-d48b0b99c055",
   "metadata": {},
   "outputs": [
    {
     "data": {
      "text/html": [
       "<div>\n",
       "<style scoped>\n",
       "    .dataframe tbody tr th:only-of-type {\n",
       "        vertical-align: middle;\n",
       "    }\n",
       "\n",
       "    .dataframe tbody tr th {\n",
       "        vertical-align: top;\n",
       "    }\n",
       "\n",
       "    .dataframe thead th {\n",
       "        text-align: right;\n",
       "    }\n",
       "</style>\n",
       "<table border=\"1\" class=\"dataframe\">\n",
       "  <thead>\n",
       "    <tr style=\"text-align: right;\">\n",
       "      <th></th>\n",
       "      <th>name</th>\n",
       "      <th>tag_line</th>\n",
       "      <th>email</th>\n",
       "      <th>phone</th>\n",
       "      <th>address</th>\n",
       "    </tr>\n",
       "  </thead>\n",
       "  <tbody>\n",
       "    <tr>\n",
       "      <th>0</th>\n",
       "      <td>Jacob Middleton</td>\n",
       "      <td>\"Balanced high-level matrix\"</td>\n",
       "      <td>andrewrivera@hotmail.com</td>\n",
       "      <td>001-444-789-7536x68632</td>\n",
       "      <td>1617 Lauren Track, Spencerchester, OK 49034</td>\n",
       "    </tr>\n",
       "    <tr>\n",
       "      <th>1</th>\n",
       "      <td>Christopher Horne</td>\n",
       "      <td>\"Profit-focused multimedia paradigm\"</td>\n",
       "      <td>edwardsmith@stokes.info</td>\n",
       "      <td>608.645.2865x43202</td>\n",
       "      <td>43375 Michael Fields Suite 347, South Richard,...</td>\n",
       "    </tr>\n",
       "    <tr>\n",
       "      <th>2</th>\n",
       "      <td>Jennifer Scott</td>\n",
       "      <td>\"Multi-channeled intermediate workforce\"</td>\n",
       "      <td>bobbycase@graham.net</td>\n",
       "      <td>525.275.6300x27293</td>\n",
       "      <td>686 Joshua Brooks Suite 086, Stephanieville, A...</td>\n",
       "    </tr>\n",
       "    <tr>\n",
       "      <th>3</th>\n",
       "      <td>Dylan Ali</td>\n",
       "      <td>\"Mandatory 5thgeneration encoding\"</td>\n",
       "      <td>slogan@miller.com</td>\n",
       "      <td>652.620.3299</td>\n",
       "      <td>068 Penny Lodge, East Kelly, GA 86120</td>\n",
       "    </tr>\n",
       "    <tr>\n",
       "      <th>4</th>\n",
       "      <td>George Paul</td>\n",
       "      <td>\"Fundamental foreground success\"</td>\n",
       "      <td>xbass@becker.com</td>\n",
       "      <td>+1-830-063-7414x8384</td>\n",
       "      <td>35464 Lowe Ramp, Valeriefort, MS 02368</td>\n",
       "    </tr>\n",
       "    <tr>\n",
       "      <th>5</th>\n",
       "      <td>Carol Bennett</td>\n",
       "      <td>\"Streamlined multi-state Internet solution\"</td>\n",
       "      <td>kimjocelyn@hess-lee.com</td>\n",
       "      <td>188-734-8791</td>\n",
       "      <td>553 Pamela Village Apt. 692, Petersmouth, NJ 7...</td>\n",
       "    </tr>\n",
       "    <tr>\n",
       "      <th>6</th>\n",
       "      <td>Holly Munoz</td>\n",
       "      <td>\"Enterprise-wide directional database\"</td>\n",
       "      <td>ntorres@ayers.com</td>\n",
       "      <td>714-977-7219x994</td>\n",
       "      <td>5765 Vasquez Glens Apt. 365, Maryshire, TN 13005</td>\n",
       "    </tr>\n",
       "    <tr>\n",
       "      <th>7</th>\n",
       "      <td>Kevin Walters</td>\n",
       "      <td>\"Business-focused explicit utilization\"</td>\n",
       "      <td>georgecarpenter@oconnor-stewart.com</td>\n",
       "      <td>7000363100</td>\n",
       "      <td>51171 Jones Springs, Rachelfort, NE 86265</td>\n",
       "    </tr>\n",
       "    <tr>\n",
       "      <th>8</th>\n",
       "      <td>Brian Graves DDS</td>\n",
       "      <td>\"Right-sized didactic middleware\"</td>\n",
       "      <td>erictaylor@waters-bennett.net</td>\n",
       "      <td>1835476156</td>\n",
       "      <td>860 Sandra Roads, Proctorview, NH 52889</td>\n",
       "    </tr>\n",
       "    <tr>\n",
       "      <th>9</th>\n",
       "      <td>Nathaniel Jennings</td>\n",
       "      <td>\"Progressive regional moratorium\"</td>\n",
       "      <td>kathy53@hotmail.com</td>\n",
       "      <td>+1-650-388-5425x6533</td>\n",
       "      <td>7562 Peck Prairie, Walkerbury, NC 86953</td>\n",
       "    </tr>\n",
       "  </tbody>\n",
       "</table>\n",
       "</div>"
      ],
      "text/plain": [
       "                 name                                     tag_line  \\\n",
       "0     Jacob Middleton                 \"Balanced high-level matrix\"   \n",
       "1   Christopher Horne         \"Profit-focused multimedia paradigm\"   \n",
       "2      Jennifer Scott     \"Multi-channeled intermediate workforce\"   \n",
       "3           Dylan Ali           \"Mandatory 5thgeneration encoding\"   \n",
       "4         George Paul             \"Fundamental foreground success\"   \n",
       "5       Carol Bennett  \"Streamlined multi-state Internet solution\"   \n",
       "6         Holly Munoz       \"Enterprise-wide directional database\"   \n",
       "7       Kevin Walters      \"Business-focused explicit utilization\"   \n",
       "8    Brian Graves DDS            \"Right-sized didactic middleware\"   \n",
       "9  Nathaniel Jennings            \"Progressive regional moratorium\"   \n",
       "\n",
       "                                 email                   phone  \\\n",
       "0             andrewrivera@hotmail.com  001-444-789-7536x68632   \n",
       "1              edwardsmith@stokes.info      608.645.2865x43202   \n",
       "2                 bobbycase@graham.net      525.275.6300x27293   \n",
       "3                    slogan@miller.com            652.620.3299   \n",
       "4                     xbass@becker.com    +1-830-063-7414x8384   \n",
       "5              kimjocelyn@hess-lee.com            188-734-8791   \n",
       "6                    ntorres@ayers.com        714-977-7219x994   \n",
       "7  georgecarpenter@oconnor-stewart.com              7000363100   \n",
       "8        erictaylor@waters-bennett.net              1835476156   \n",
       "9                  kathy53@hotmail.com    +1-650-388-5425x6533   \n",
       "\n",
       "                                             address  \n",
       "0        1617 Lauren Track, Spencerchester, OK 49034  \n",
       "1  43375 Michael Fields Suite 347, South Richard,...  \n",
       "2  686 Joshua Brooks Suite 086, Stephanieville, A...  \n",
       "3              068 Penny Lodge, East Kelly, GA 86120  \n",
       "4             35464 Lowe Ramp, Valeriefort, MS 02368  \n",
       "5  553 Pamela Village Apt. 692, Petersmouth, NJ 7...  \n",
       "6   5765 Vasquez Glens Apt. 365, Maryshire, TN 13005  \n",
       "7          51171 Jones Springs, Rachelfort, NE 86265  \n",
       "8            860 Sandra Roads, Proctorview, NH 52889  \n",
       "9            7562 Peck Prairie, Walkerbury, NC 86953  "
      ]
     },
     "execution_count": 163,
     "metadata": {},
     "output_type": "execute_result"
    }
   ],
   "source": [
    "pd.DataFrame([parse_people(person) for person in people])"
   ]
  },
  {
   "cell_type": "markdown",
   "id": "f539ee77-80c0-47a9-a18d-d6261e81d4df",
   "metadata": {},
   "source": [
    "# Exercises"
   ]
  },
  {
   "cell_type": "markdown",
   "id": "42653299-e68b-4d02-b53c-3fe654cb5624",
   "metadata": {},
   "source": [
    "By the end of this exercise, you should have a file named acquire.py that contains the specified functions. If you wish, you may break your work into separate files for each website (e.g. `acquire_codeup_blog.py` and `acquire_news_articles.py`), but the end function should be present in `acquire.py` (that is, `acquire.py` should `import get_blog_articles` from the `acquire_codeup_blog` module.)"
   ]
  },
  {
   "cell_type": "markdown",
   "id": "8f799ff1-eeb3-4f53-9223-aba0b1cfc57a",
   "metadata": {},
   "source": [
    "## Codeup Blog Articles"
   ]
  },
  {
   "cell_type": "markdown",
   "id": "04b21815-5980-426a-932d-78243a580aca",
   "metadata": {},
   "source": [
    "Visit Codeup's Blog and record the urls for at least 5 distinct blog posts. For each post, you should scrape at least the post's `title` and `content`.\n",
    "\n",
    "Encapsulate your work in a function named `get_blog_articles` that will return a list of dictionaries, with each dictionary representing one article. The shape of each dictionary should look like this:\n",
    "\n",
    "`{'title': 'the title of the article', 'content': 'the full text content of the article'}`\n",
    "\n",
    "Plus any additional properties you think might be helpful.\n",
    "\n",
    "*Bonus: Scrape the text of all the articles linked on codeup's blog page.*"
   ]
  },
  {
   "cell_type": "code",
   "execution_count": 173,
   "id": "20cd32e8-7b05-404a-9e4c-072f7a2adccb",
   "metadata": {},
   "outputs": [],
   "source": [
    "# make the HTTP request\n",
    "url = 'https://codeup.com/data-science/why-you-should-become-a-data-scientist/'\n",
    "headers = {'User-Agent': 'Codeup Data Science Germain Cohort'} # Some websites don't accept the pyhon-requests default user-agent\n",
    "response = requests.get(url, headers=headers)"
   ]
  },
  {
   "cell_type": "code",
   "execution_count": 175,
   "id": "18f0491a-be82-4c07-b8c8-4cd7a664346a",
   "metadata": {},
   "outputs": [],
   "source": [
    "# pull the text out of the response\n",
    "html = response.text"
   ]
  },
  {
   "cell_type": "code",
   "execution_count": 176,
   "id": "9d48727b-37fa-4af6-8c2d-7afb2919508b",
   "metadata": {},
   "outputs": [],
   "source": [
    "# pass HTML into Beautiful Soup\n",
    "soup = BeautifulSoup(html)"
   ]
  },
  {
   "cell_type": "code",
   "execution_count": 186,
   "id": "cadc9c12-e6d5-40d2-9b1e-47dd350a93e5",
   "metadata": {},
   "outputs": [],
   "source": [
    "# let's first pull out section we need (might be too much)\n",
    "body = soup.select('.et_pb_column.et_pb_column_3_4')"
   ]
  },
  {
   "cell_type": "code",
   "execution_count": 191,
   "id": "9e0f3d83-3039-49c3-8558-bed097d8a0f3",
   "metadata": {},
   "outputs": [
    {
     "data": {
      "text/plain": [
       "'Why You Should Become a Data Scientist'"
      ]
     },
     "execution_count": 191,
     "metadata": {},
     "output_type": "execute_result"
    }
   ],
   "source": [
    "# lets just grab the title\n",
    "soup.select('.et_pb_title_container')[0].h1.text"
   ]
  },
  {
   "cell_type": "code",
   "execution_count": 203,
   "id": "1e0d4445-497b-430d-8aef-f69be0c7ffa8",
   "metadata": {},
   "outputs": [
    {
     "data": {
      "text/plain": [
       "18"
      ]
     },
     "execution_count": 203,
     "metadata": {},
     "output_type": "execute_result"
    }
   ],
   "source": [
    "# let's get the text of the article\n",
    "len(soup.select('.et_pb_post_content_0_tb_body')[0].find_all('p'))"
   ]
  },
  {
   "cell_type": "code",
   "execution_count": 207,
   "id": "c59b2f9b-e4ca-4c00-b10d-90de8e30116e",
   "metadata": {},
   "outputs": [],
   "source": [
    "# get list of all paragraphs\n",
    "paragraphs = soup.select('.et_pb_post_content_0_tb_body')[0].find_all('p')"
   ]
  },
  {
   "cell_type": "code",
   "execution_count": 208,
   "id": "c44d063c-20e1-4f3b-8bbb-d85f0e8f257c",
   "metadata": {},
   "outputs": [
    {
     "data": {
      "text/plain": [
       "18"
      ]
     },
     "execution_count": 208,
     "metadata": {},
     "output_type": "execute_result"
    }
   ],
   "source": [
    "len(paragraphs)"
   ]
  },
  {
   "cell_type": "code",
   "execution_count": 206,
   "id": "631be57a-e937-4734-b168-0c87883304c3",
   "metadata": {},
   "outputs": [
    {
     "data": {
      "text/plain": [
       "'What do you look for in a career? Chances are, you’re looking for a way to make use of your particular talents, a field that’s secure and reliable, a work/life balance, and good compensation. For the right people, data science offers all of that and more! It was LinkedIn’s #1 Most Promising Job in 2019, and Glassdoor’s 2nd Best Job of 2021! Actually, Data Scientists topped that list from 2016 to 2019 before being dethroned by developers, which we also train at Codeup. So why all the hype? What makes it the best? Keep reading to learn why you should become a Data Scientist!'"
      ]
     },
     "execution_count": 206,
     "metadata": {},
     "output_type": "execute_result"
    }
   ],
   "source": [
    "# let's look at one paragraph\n",
    "soup.select('.et_pb_post_content_0_tb_body')[0].find_all('p')[0].text"
   ]
  },
  {
   "cell_type": "code",
   "execution_count": null,
   "id": "05d35fbf-d788-423b-9fc3-1992c47f92f3",
   "metadata": {},
   "outputs": [],
   "source": [
    "# create a large block of text by combining all paragraphs\n",
    "n_paragraphs = len(soup.select('.et_pb_post_content_0_tb_body')[0].find_all('p'))\n",
    "all_text = ''\n",
    "for i in range(0, n_paragraphs):\n",
    "    all_text += soup.select('.et_pb_post_content_0_tb_body')[0].find_all('p')[0].text\n",
    "    "
   ]
  },
  {
   "cell_type": "markdown",
   "id": "f3e84874-3300-43d7-bb77-c2d2a4abac3f",
   "metadata": {},
   "source": [
    "## News Articles"
   ]
  },
  {
   "cell_type": "code",
   "execution_count": null,
   "id": "ed1470bd-7f50-4359-9e39-a90f4493d4bf",
   "metadata": {},
   "outputs": [],
   "source": []
  },
  {
   "cell_type": "markdown",
   "id": "7a071ad9-50f3-4908-a39e-f1bd93e4acff",
   "metadata": {},
   "source": [
    "We will now be scraping text data from inshorts, a website that provides a brief overview of many different topics.\n",
    "\n",
    "Write a function that scrapes the news articles for the following topics:\n",
    "\n",
    "Business\n",
    "Sports\n",
    "Technology\n",
    "Entertainment\n",
    "The end product of this should be a function named get_news_articles that returns a list of dictionaries, where each dictionary has this shape:\n",
    "\n",
    "{\n",
    "    'title': 'The article title',\n",
    "    'content': 'The article content',\n",
    "    'category': 'business' # for example\n",
    "}\n",
    "\n",
    "Hints:\n",
    "\n",
    "Start by inspecting the website in your browser. Figure out which elements will be useful.\n",
    "Start by creating a function that handles a single article and produces a dictionary like the one above.\n",
    "Next create a function that will find all the articles on a single page and call the function you created in the last step for every article on the page.\n",
    "Now create a function that will use the previous two functions to scrape the articles from all the pages that you need, and do any additional processing that needs to be done."
   ]
  },
  {
   "cell_type": "markdown",
   "id": "2a45b0e1-0bb3-466d-9444-288fadf1c10a",
   "metadata": {},
   "source": [
    "## Bonus"
   ]
  },
  {
   "cell_type": "markdown",
   "id": "5869b16a-09fd-4a8d-a9d7-f8deb533a7f9",
   "metadata": {},
   "source": [
    "Bonus: cache the data\n",
    "\n",
    "Write your code such that the acquired data is saved locally in some form or fashion. Your functions that retrieve the data should prefer to read the local data instead of having to make all the requests everytime the function is called. Include a boolean flag in the functions to allow the data to be acquired \"fresh\" from the actual sources (re-writing your local cache)."
   ]
  }
 ],
 "metadata": {
  "kernelspec": {
   "display_name": "Python 3",
   "language": "python",
   "name": "python3"
  },
  "language_info": {
   "codemirror_mode": {
    "name": "ipython",
    "version": 3
   },
   "file_extension": ".py",
   "mimetype": "text/x-python",
   "name": "python",
   "nbconvert_exporter": "python",
   "pygments_lexer": "ipython3",
   "version": "3.8.8"
  }
 },
 "nbformat": 4,
 "nbformat_minor": 5
}
