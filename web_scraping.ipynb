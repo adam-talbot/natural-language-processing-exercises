{
 "cells": [
  {
   "cell_type": "markdown",
   "id": "455a346e-b156-4c08-933b-f221c5b63523",
   "metadata": {},
   "source": [
    "# Mini Exercises"
   ]
  },
  {
   "cell_type": "code",
   "execution_count": 1,
   "id": "8d1cd743-102f-471c-bfe4-db4aba513541",
   "metadata": {},
   "outputs": [],
   "source": [
    "import requests\n",
    "from bs4 import BeautifulSoup\n",
    "import pandas as pd"
   ]
  },
  {
   "cell_type": "markdown",
   "id": "d00d88e8-e649-4c13-a5d3-10364b25e424",
   "metadata": {},
   "source": [
    "## News Article Scraping"
   ]
  },
  {
   "cell_type": "code",
   "execution_count": 2,
   "id": "ffafe7cf-101b-475a-ad5b-31492d32c60a",
   "metadata": {},
   "outputs": [],
   "source": [
    "# make the HTTP request\n",
    "response = requests.get('https://web-scraping-demo.zgulde.net/news')"
   ]
  },
  {
   "cell_type": "code",
   "execution_count": 3,
   "id": "9ce13105-b2ce-4336-a27a-22eeb7fa4d3a",
   "metadata": {},
   "outputs": [],
   "source": [
    "# pull the text out of the response\n",
    "html = response.text"
   ]
  },
  {
   "cell_type": "code",
   "execution_count": 4,
   "id": "dbece3cd-0671-4589-9581-57456142e8a5",
   "metadata": {},
   "outputs": [],
   "source": [
    "# pass HTML into Beautiful Soup\n",
    "soup = BeautifulSoup(html)"
   ]
  },
  {
   "cell_type": "code",
   "execution_count": 5,
   "id": "174fc622-355f-4f80-9427-8d659df3fd88",
   "metadata": {},
   "outputs": [],
   "source": [
    "# locate the articles using inspect feature of web browser to pull out desired parts of page using tags\n",
    "articles = soup.select('.grid.grid-cols-4.gap-x-4.border')"
   ]
  },
  {
   "cell_type": "code",
   "execution_count": 6,
   "id": "3f005e81-5c7a-4e59-a81a-b146b7a31474",
   "metadata": {},
   "outputs": [
    {
     "data": {
      "text/plain": [
       "12"
      ]
     },
     "execution_count": 6,
     "metadata": {},
     "output_type": "execute_result"
    }
   ],
   "source": [
    "len(articles)"
   ]
  },
  {
   "cell_type": "code",
   "execution_count": 7,
   "id": "c0f7f9d2-6685-40f2-b7cd-2a7f28c3bb5a",
   "metadata": {},
   "outputs": [
    {
     "data": {
      "text/plain": [
       "<div class=\"grid grid-cols-4 gap-x-4 border rounded pr-3 bg-green-50 hover:shadow-lg transition duration-500\">\n",
       "<img src=\"/static/placeholder.png\"/>\n",
       "<div class=\"col-span-3 space-y-3 py-3\">\n",
       "<h2 class=\"text-2xl text-green-900\">specific clear box</h2>\n",
       "<div class=\"grid grid-cols-2 italic\">\n",
       "<p> 1970-01-02 </p>\n",
       "<p class=\"text-right\">By Meagan Stuart </p>\n",
       "</div>\n",
       "<p>Evidence recent politics continue. Herself team value. Important often water we writer find.\n",
       "Television remember begin appear trial. Fill Republican design court since big media try.</p>\n",
       "</div>\n",
       "</div>"
      ]
     },
     "execution_count": 7,
     "metadata": {},
     "output_type": "execute_result"
    }
   ],
   "source": [
    "articles[0]"
   ]
  },
  {
   "cell_type": "code",
   "execution_count": 8,
   "id": "fb7cf23b-ea07-4200-adee-c22fe5c1e1cc",
   "metadata": {},
   "outputs": [
    {
     "data": {
      "text/plain": [
       "'specific clear box'"
      ]
     },
     "execution_count": 8,
     "metadata": {},
     "output_type": "execute_result"
    }
   ],
   "source": [
    "# get title\n",
    "articles[0].h2.text"
   ]
  },
  {
   "cell_type": "code",
   "execution_count": 9,
   "id": "245afa72-fae3-47a7-9d1e-b23183440135",
   "metadata": {},
   "outputs": [
    {
     "data": {
      "text/plain": [
       "(<p> 1970-01-02 </p>, <p class=\"text-right\">By Meagan Stuart </p>)"
      ]
     },
     "execution_count": 9,
     "metadata": {},
     "output_type": "execute_result"
    }
   ],
   "source": [
    "# get data and author\n",
    "date, author = articles[0].select('.italic')[0].find_all('p')\n",
    "date, author"
   ]
  },
  {
   "cell_type": "code",
   "execution_count": 10,
   "id": "1724c3ca-7023-4f23-bdf3-9f63008704b7",
   "metadata": {},
   "outputs": [
    {
     "data": {
      "text/plain": [
       "'Evidence recent politics continue. Herself team value. Important often water we writer find.\\nTelevision remember begin appear trial. Fill Republican design court since big media try.'"
      ]
     },
     "execution_count": 10,
     "metadata": {},
     "output_type": "execute_result"
    }
   ],
   "source": [
    "# get paragraph\n",
    "articles[0].find_all('p')[-1].text"
   ]
  },
  {
   "cell_type": "code",
   "execution_count": 11,
   "id": "057b504b-cb64-447a-ae07-ef52afa239e3",
   "metadata": {},
   "outputs": [],
   "source": [
    "# put into a function\n",
    "def parse_news(article):\n",
    "    title = article.h2.text\n",
    "    date, author = article.select('.italic')[0].find_all('p')\n",
    "    paragraph = article.find_all('p')[-1].text\n",
    "    return {'title' : title, 'date' : date.text, 'author' : author.text, 'paragraph' : paragraph}"
   ]
  },
  {
   "cell_type": "code",
   "execution_count": 12,
   "id": "b65f04b0-d49a-4860-bdce-36eea44af394",
   "metadata": {},
   "outputs": [
    {
     "data": {
      "text/html": [
       "<div>\n",
       "<style scoped>\n",
       "    .dataframe tbody tr th:only-of-type {\n",
       "        vertical-align: middle;\n",
       "    }\n",
       "\n",
       "    .dataframe tbody tr th {\n",
       "        vertical-align: top;\n",
       "    }\n",
       "\n",
       "    .dataframe thead th {\n",
       "        text-align: right;\n",
       "    }\n",
       "</style>\n",
       "<table border=\"1\" class=\"dataframe\">\n",
       "  <thead>\n",
       "    <tr style=\"text-align: right;\">\n",
       "      <th></th>\n",
       "      <th>title</th>\n",
       "      <th>date</th>\n",
       "      <th>author</th>\n",
       "      <th>paragraph</th>\n",
       "    </tr>\n",
       "  </thead>\n",
       "  <tbody>\n",
       "    <tr>\n",
       "      <th>0</th>\n",
       "      <td>specific clear box</td>\n",
       "      <td>1970-01-02</td>\n",
       "      <td>By Meagan Stuart</td>\n",
       "      <td>Evidence recent politics continue. Herself tea...</td>\n",
       "    </tr>\n",
       "    <tr>\n",
       "      <th>1</th>\n",
       "      <td>item member outside</td>\n",
       "      <td>1988-12-10</td>\n",
       "      <td>By William Berry</td>\n",
       "      <td>Whom kid Congress exactly. Value dark hope per...</td>\n",
       "    </tr>\n",
       "    <tr>\n",
       "      <th>2</th>\n",
       "      <td>them example walk</td>\n",
       "      <td>1998-11-15</td>\n",
       "      <td>By Joshua Castillo</td>\n",
       "      <td>Condition cover include author help civil unti...</td>\n",
       "    </tr>\n",
       "    <tr>\n",
       "      <th>3</th>\n",
       "      <td>or church when</td>\n",
       "      <td>2017-05-26</td>\n",
       "      <td>By Brandon Spears</td>\n",
       "      <td>Politics despite cell look.\\nTask live decisio...</td>\n",
       "    </tr>\n",
       "    <tr>\n",
       "      <th>4</th>\n",
       "      <td>join weight eye</td>\n",
       "      <td>1984-07-20</td>\n",
       "      <td>By Kiara Parker</td>\n",
       "      <td>Half face choice. Tell popular sing billion fe...</td>\n",
       "    </tr>\n",
       "    <tr>\n",
       "      <th>5</th>\n",
       "      <td>TV poor skill</td>\n",
       "      <td>2004-02-06</td>\n",
       "      <td>By Heather Davis</td>\n",
       "      <td>Various hotel seem fear who rich doctor. Towar...</td>\n",
       "    </tr>\n",
       "    <tr>\n",
       "      <th>6</th>\n",
       "      <td>east pay plan</td>\n",
       "      <td>1976-12-27</td>\n",
       "      <td>By Marc Kelley</td>\n",
       "      <td>Good personal risk expert forget. Hot perform ...</td>\n",
       "    </tr>\n",
       "    <tr>\n",
       "      <th>7</th>\n",
       "      <td>million positive century</td>\n",
       "      <td>1971-08-02</td>\n",
       "      <td>By Mrs. Cheryl Wilson</td>\n",
       "      <td>Phone over couple even environmental model amo...</td>\n",
       "    </tr>\n",
       "    <tr>\n",
       "      <th>8</th>\n",
       "      <td>five direction see</td>\n",
       "      <td>2005-09-08</td>\n",
       "      <td>By Ryan Carter</td>\n",
       "      <td>Walk strong need century call partner. Radio e...</td>\n",
       "    </tr>\n",
       "    <tr>\n",
       "      <th>9</th>\n",
       "      <td>reason particularly military</td>\n",
       "      <td>1980-11-22</td>\n",
       "      <td>By Lisa Lyons</td>\n",
       "      <td>Himself different away explain. Son language e...</td>\n",
       "    </tr>\n",
       "    <tr>\n",
       "      <th>10</th>\n",
       "      <td>marriage land maybe</td>\n",
       "      <td>1973-02-03</td>\n",
       "      <td>By Kurt Allen</td>\n",
       "      <td>Yet nature as show appear energy at care. Unde...</td>\n",
       "    </tr>\n",
       "    <tr>\n",
       "      <th>11</th>\n",
       "      <td>boy when final</td>\n",
       "      <td>2007-10-15</td>\n",
       "      <td>By Patrick Jordan</td>\n",
       "      <td>Approach chair senior director should church r...</td>\n",
       "    </tr>\n",
       "  </tbody>\n",
       "</table>\n",
       "</div>"
      ],
      "text/plain": [
       "                           title          date                  author  \\\n",
       "0             specific clear box   1970-01-02        By Meagan Stuart    \n",
       "1            item member outside   1988-12-10        By William Berry    \n",
       "2              them example walk   1998-11-15      By Joshua Castillo    \n",
       "3                 or church when   2017-05-26       By Brandon Spears    \n",
       "4                join weight eye   1984-07-20         By Kiara Parker    \n",
       "5                  TV poor skill   2004-02-06        By Heather Davis    \n",
       "6                  east pay plan   1976-12-27          By Marc Kelley    \n",
       "7       million positive century   1971-08-02   By Mrs. Cheryl Wilson    \n",
       "8             five direction see   2005-09-08          By Ryan Carter    \n",
       "9   reason particularly military   1980-11-22           By Lisa Lyons    \n",
       "10           marriage land maybe   1973-02-03           By Kurt Allen    \n",
       "11                boy when final   2007-10-15       By Patrick Jordan    \n",
       "\n",
       "                                            paragraph  \n",
       "0   Evidence recent politics continue. Herself tea...  \n",
       "1   Whom kid Congress exactly. Value dark hope per...  \n",
       "2   Condition cover include author help civil unti...  \n",
       "3   Politics despite cell look.\\nTask live decisio...  \n",
       "4   Half face choice. Tell popular sing billion fe...  \n",
       "5   Various hotel seem fear who rich doctor. Towar...  \n",
       "6   Good personal risk expert forget. Hot perform ...  \n",
       "7   Phone over couple even environmental model amo...  \n",
       "8   Walk strong need century call partner. Radio e...  \n",
       "9   Himself different away explain. Son language e...  \n",
       "10  Yet nature as show appear energy at care. Unde...  \n",
       "11  Approach chair senior director should church r...  "
      ]
     },
     "execution_count": 12,
     "metadata": {},
     "output_type": "execute_result"
    }
   ],
   "source": [
    "pd.DataFrame([parse_news(article) for article in articles])"
   ]
  },
  {
   "cell_type": "markdown",
   "id": "3bf7555d-2700-493e-8d3f-a131c03000d0",
   "metadata": {},
   "source": [
    "## Contact Info Scraping"
   ]
  },
  {
   "cell_type": "code",
   "execution_count": 13,
   "id": "4cfee43b-77cd-41aa-9c28-1d572e732af0",
   "metadata": {},
   "outputs": [],
   "source": [
    "# make the HTTP request\n",
    "response = requests.get('https://web-scraping-demo.zgulde.net/people')"
   ]
  },
  {
   "cell_type": "code",
   "execution_count": 14,
   "id": "d7344fb9-40a2-4c1b-912c-ef9cbcfb05cd",
   "metadata": {},
   "outputs": [],
   "source": [
    "# pull the text out of the response\n",
    "html = response.text"
   ]
  },
  {
   "cell_type": "code",
   "execution_count": 15,
   "id": "e74087d8-0b1f-4c3b-b356-ce8b630c4e7a",
   "metadata": {},
   "outputs": [],
   "source": [
    "# pass HTML into Beautiful Soup\n",
    "soup = BeautifulSoup(html)"
   ]
  },
  {
   "cell_type": "code",
   "execution_count": 16,
   "id": "bb53e7cc-b97c-46be-95a2-00512489cc67",
   "metadata": {},
   "outputs": [],
   "source": [
    "people = soup.select('.person.border.rounded.px-3')"
   ]
  },
  {
   "cell_type": "code",
   "execution_count": 17,
   "id": "6b27bc80-204a-4146-86d2-21ea167d77e5",
   "metadata": {},
   "outputs": [
    {
     "data": {
      "text/plain": [
       "10"
      ]
     },
     "execution_count": 17,
     "metadata": {},
     "output_type": "execute_result"
    }
   ],
   "source": [
    "len(people)"
   ]
  },
  {
   "cell_type": "code",
   "execution_count": 18,
   "id": "37f940a5-2ea5-4bac-81a8-473e70ace1a1",
   "metadata": {},
   "outputs": [
    {
     "data": {
      "text/plain": [
       "'Jeffrey Garcia'"
      ]
     },
     "execution_count": 18,
     "metadata": {},
     "output_type": "execute_result"
    }
   ],
   "source": [
    "# get name\n",
    "people[0].h2.text"
   ]
  },
  {
   "cell_type": "code",
   "execution_count": 19,
   "id": "b21f209b-76c0-492f-86f2-d0ce5b35e2e0",
   "metadata": {},
   "outputs": [
    {
     "data": {
      "text/plain": [
       "'Jeffrey Garcia'"
      ]
     },
     "execution_count": 19,
     "metadata": {},
     "output_type": "execute_result"
    }
   ],
   "source": [
    "# another way to get it\n",
    "people[0].select('.name')[0].text"
   ]
  },
  {
   "cell_type": "code",
   "execution_count": 20,
   "id": "f82a9704-cfc5-4cf8-ac9f-034d0ecb2ce9",
   "metadata": {},
   "outputs": [
    {
     "data": {
      "text/plain": [
       "'\"Optimized discrete encryption\"'"
      ]
     },
     "execution_count": 20,
     "metadata": {},
     "output_type": "execute_result"
    }
   ],
   "source": [
    "# get tag line\n",
    "people[0].p.text.strip()"
   ]
  },
  {
   "cell_type": "code",
   "execution_count": 21,
   "id": "041c5374-d713-4a22-9841-363636be1dda",
   "metadata": {},
   "outputs": [
    {
     "data": {
      "text/plain": [
       "'\"Optimized discrete encryption\"'"
      ]
     },
     "execution_count": 21,
     "metadata": {},
     "output_type": "execute_result"
    }
   ],
   "source": [
    "# another way to get it\n",
    "people[0].select('.quote')[0].text.strip()"
   ]
  },
  {
   "cell_type": "code",
   "execution_count": 22,
   "id": "8acfd0af-d3ed-4983-9c10-915417b8fc13",
   "metadata": {},
   "outputs": [
    {
     "data": {
      "text/plain": [
       "'pattersonstephen@walker-brown.com'"
      ]
     },
     "execution_count": 22,
     "metadata": {},
     "output_type": "execute_result"
    }
   ],
   "source": [
    "# get email address\n",
    "people[0].select('.grid.grid-cols-9')[0].p.text"
   ]
  },
  {
   "cell_type": "code",
   "execution_count": 23,
   "id": "3d6b01b1-20ac-4de6-9141-d8b3f8059ac2",
   "metadata": {},
   "outputs": [
    {
     "data": {
      "text/plain": [
       "'pattersonstephen@walker-brown.com'"
      ]
     },
     "execution_count": 23,
     "metadata": {},
     "output_type": "execute_result"
    }
   ],
   "source": [
    "# another way\n",
    "people[0].select('.email')[0].text"
   ]
  },
  {
   "cell_type": "code",
   "execution_count": 24,
   "id": "768a1d03-165c-4a02-9bf9-2b1ab6517065",
   "metadata": {},
   "outputs": [
    {
     "data": {
      "text/plain": [
       "'294-311-6002x7020'"
      ]
     },
     "execution_count": 24,
     "metadata": {},
     "output_type": "execute_result"
    }
   ],
   "source": [
    "# get phone number\n",
    "people[0].select('.grid.grid-cols-9')[0].find_all('p')[1].text"
   ]
  },
  {
   "cell_type": "code",
   "execution_count": 25,
   "id": "a5a7eaeb-c2ea-4ed8-9b58-aca4a78d9481",
   "metadata": {},
   "outputs": [
    {
     "data": {
      "text/plain": [
       "<div class=\"person border rounded px-3 py-5 grid grid-cols-2 gap-x-3 bg-purple-50 hover:shadow-lg transition duration-500\">\n",
       "<h2 class=\"text-2xl text-purple-800 name col-span-full border-b\">Jeffrey Garcia</h2>\n",
       "<p class=\"quote col-span-full px-5 py-5 text-center text-gray-500\">\n",
       "            \"Optimized discrete encryption\"\n",
       "        </p>\n",
       "<div class=\"grid grid-cols-9\">\n",
       "<i class=\"bi bi-envelope-fill text-purple-800\"></i>\n",
       "<p class=\"email col-span-8\">pattersonstephen@walker-brown.com</p>\n",
       "<i class=\"bi bi-telephone-fill text-purple-800\"></i>\n",
       "<p class=\"phone col-span-8\">294-311-6002x7020</p>\n",
       "</div>\n",
       "<div class=\"address grid grid-cols-9\">\n",
       "<i class=\"bi bi-geo-fill text-purple-800\"></i>\n",
       "<p class=\"col-span-8\">\n",
       "                456 Cox Drives <br/>\n",
       "                Changstad, OR 64982\n",
       "            </p>\n",
       "</div>\n",
       "</div>"
      ]
     },
     "execution_count": 25,
     "metadata": {},
     "output_type": "execute_result"
    }
   ],
   "source": [
    "people[0]"
   ]
  },
  {
   "cell_type": "code",
   "execution_count": 26,
   "id": "797442ac-8f84-4566-a85d-f17a399f9ef2",
   "metadata": {},
   "outputs": [
    {
     "data": {
      "text/plain": [
       "'294-311-6002x7020'"
      ]
     },
     "execution_count": 26,
     "metadata": {},
     "output_type": "execute_result"
    }
   ],
   "source": [
    "# another way\n",
    "people[0].select('.phone')[0].text"
   ]
  },
  {
   "cell_type": "code",
   "execution_count": 27,
   "id": "b3cdf69d-36e5-4afe-8ce7-1221bdbe7fd0",
   "metadata": {},
   "outputs": [
    {
     "data": {
      "text/plain": [
       "'456 Cox Drives \\n                Changstad, OR 64982'"
      ]
     },
     "execution_count": 27,
     "metadata": {},
     "output_type": "execute_result"
    }
   ],
   "source": [
    "# find address\n",
    "address = people[0].select('.address')[0].p.text.strip()\n",
    "address"
   ]
  },
  {
   "cell_type": "code",
   "execution_count": 28,
   "id": "0caef011-39de-4ff4-b0c1-9ecd1b9a83ff",
   "metadata": {},
   "outputs": [
    {
     "data": {
      "text/plain": [
       "'456 Cox Drives \\n                Changstad, OR 64982'"
      ]
     },
     "execution_count": 28,
     "metadata": {},
     "output_type": "execute_result"
    }
   ],
   "source": [
    "# another way\n",
    "people[0].select('.address')[0].text.strip()"
   ]
  },
  {
   "cell_type": "code",
   "execution_count": 29,
   "id": "742bec20-8153-4bb7-b399-a71b1bf66673",
   "metadata": {},
   "outputs": [],
   "source": [
    "import re"
   ]
  },
  {
   "cell_type": "code",
   "execution_count": 30,
   "id": "27bb574d-53a2-4174-a2cd-b7fb21dfa511",
   "metadata": {},
   "outputs": [
    {
     "data": {
      "text/plain": [
       "'456 Cox Drives, Changstad, OR 64982'"
      ]
     },
     "execution_count": 30,
     "metadata": {},
     "output_type": "execute_result"
    }
   ],
   "source": [
    "# use regex to clean up white spaces\n",
    "re.sub(r'\\s{2,}', ', ', address)"
   ]
  },
  {
   "cell_type": "code",
   "execution_count": 31,
   "id": "6a26af85-be2e-491b-9ad2-2a23adff071c",
   "metadata": {},
   "outputs": [],
   "source": [
    "def parse_people(person):\n",
    "    name = person.h2.text\n",
    "    tag_line = person.p.text.strip()\n",
    "    email = person.select('.email')[0].text\n",
    "    phone = person.select('.phone')[0].text\n",
    "    address = person.select('.address')[0].text.strip()\n",
    "    address = re.sub(r'\\s{2,}', ', ', address)\n",
    "    return {\n",
    "        'name' : name,\n",
    "        'tag_line' : tag_line,\n",
    "        'email' : email,\n",
    "        'phone' : phone,\n",
    "        'address' : address\n",
    "    }"
   ]
  },
  {
   "cell_type": "code",
   "execution_count": 32,
   "id": "fd8a344a-990c-43bf-a7ae-d48b0b99c055",
   "metadata": {},
   "outputs": [
    {
     "data": {
      "text/html": [
       "<div>\n",
       "<style scoped>\n",
       "    .dataframe tbody tr th:only-of-type {\n",
       "        vertical-align: middle;\n",
       "    }\n",
       "\n",
       "    .dataframe tbody tr th {\n",
       "        vertical-align: top;\n",
       "    }\n",
       "\n",
       "    .dataframe thead th {\n",
       "        text-align: right;\n",
       "    }\n",
       "</style>\n",
       "<table border=\"1\" class=\"dataframe\">\n",
       "  <thead>\n",
       "    <tr style=\"text-align: right;\">\n",
       "      <th></th>\n",
       "      <th>name</th>\n",
       "      <th>tag_line</th>\n",
       "      <th>email</th>\n",
       "      <th>phone</th>\n",
       "      <th>address</th>\n",
       "    </tr>\n",
       "  </thead>\n",
       "  <tbody>\n",
       "    <tr>\n",
       "      <th>0</th>\n",
       "      <td>Jeffrey Garcia</td>\n",
       "      <td>\"Optimized discrete encryption\"</td>\n",
       "      <td>pattersonstephen@walker-brown.com</td>\n",
       "      <td>294-311-6002x7020</td>\n",
       "      <td>456 Cox Drives, Changstad, OR 64982</td>\n",
       "    </tr>\n",
       "    <tr>\n",
       "      <th>1</th>\n",
       "      <td>Ashley Curtis</td>\n",
       "      <td>\"Automated uniform support\"</td>\n",
       "      <td>jill43@hotmail.com</td>\n",
       "      <td>573-385-6306</td>\n",
       "      <td>492 Hill Rapid, East Michael, LA 20088</td>\n",
       "    </tr>\n",
       "    <tr>\n",
       "      <th>2</th>\n",
       "      <td>Jeffrey Smith</td>\n",
       "      <td>\"Team-oriented impactful paradigm\"</td>\n",
       "      <td>ucollins@hotmail.com</td>\n",
       "      <td>580-649-1752x54465</td>\n",
       "      <td>135 Richardson Groves Apt. 236, Blevinsbury, N...</td>\n",
       "    </tr>\n",
       "    <tr>\n",
       "      <th>3</th>\n",
       "      <td>Alejandro Smith</td>\n",
       "      <td>\"Universal 4thgeneration benchmark\"</td>\n",
       "      <td>erictownsend@yahoo.com</td>\n",
       "      <td>999-308-9772x0808</td>\n",
       "      <td>97757 Lynn Throughway Suite 082, Morrisonside,...</td>\n",
       "    </tr>\n",
       "    <tr>\n",
       "      <th>4</th>\n",
       "      <td>Brian Bowers</td>\n",
       "      <td>\"Triple-buffered systematic protocol\"</td>\n",
       "      <td>sarahburton@black.com</td>\n",
       "      <td>+1-327-770-7479x399</td>\n",
       "      <td>950 Morrison Light, North Derrickport, IL 72442</td>\n",
       "    </tr>\n",
       "    <tr>\n",
       "      <th>5</th>\n",
       "      <td>Andrea Jones</td>\n",
       "      <td>\"Advanced multi-state capability\"</td>\n",
       "      <td>vazquezjeffery@ryan-richards.info</td>\n",
       "      <td>001-332-420-4827x867</td>\n",
       "      <td>78941 Kyle Expressway, Thomasland, AZ 21475</td>\n",
       "    </tr>\n",
       "    <tr>\n",
       "      <th>6</th>\n",
       "      <td>Rodney Luna</td>\n",
       "      <td>\"Programmable 3rdgeneration utilization\"</td>\n",
       "      <td>oschneider@gmail.com</td>\n",
       "      <td>878.359.0467x29797</td>\n",
       "      <td>35278 Oconnor Canyon, North Michelle, PA 53985</td>\n",
       "    </tr>\n",
       "    <tr>\n",
       "      <th>7</th>\n",
       "      <td>Michael Howard</td>\n",
       "      <td>\"Balanced well-modulated Graphic Interface\"</td>\n",
       "      <td>mendezsherry@gmail.com</td>\n",
       "      <td>+1-787-310-9526x210</td>\n",
       "      <td>3820 Julie Crossing Suite 926, East Elizabethp...</td>\n",
       "    </tr>\n",
       "    <tr>\n",
       "      <th>8</th>\n",
       "      <td>Christopher Rodriguez</td>\n",
       "      <td>\"Synergized impactful knowledgebase\"</td>\n",
       "      <td>lelisa@gmail.com</td>\n",
       "      <td>+1-654-097-3805x120</td>\n",
       "      <td>741 Kline Mission Apt. 088, Fischerhaven, NY 7...</td>\n",
       "    </tr>\n",
       "    <tr>\n",
       "      <th>9</th>\n",
       "      <td>Jamie Blair</td>\n",
       "      <td>\"Fully-configurable cohesive archive\"</td>\n",
       "      <td>vasquezjack@lewis.com</td>\n",
       "      <td>(252)196-3780x140</td>\n",
       "      <td>863 Jacob Port Apt. 872, Monteston, UT 63018</td>\n",
       "    </tr>\n",
       "  </tbody>\n",
       "</table>\n",
       "</div>"
      ],
      "text/plain": [
       "                    name                                     tag_line  \\\n",
       "0         Jeffrey Garcia              \"Optimized discrete encryption\"   \n",
       "1          Ashley Curtis                  \"Automated uniform support\"   \n",
       "2          Jeffrey Smith           \"Team-oriented impactful paradigm\"   \n",
       "3        Alejandro Smith          \"Universal 4thgeneration benchmark\"   \n",
       "4           Brian Bowers        \"Triple-buffered systematic protocol\"   \n",
       "5           Andrea Jones            \"Advanced multi-state capability\"   \n",
       "6            Rodney Luna     \"Programmable 3rdgeneration utilization\"   \n",
       "7         Michael Howard  \"Balanced well-modulated Graphic Interface\"   \n",
       "8  Christopher Rodriguez         \"Synergized impactful knowledgebase\"   \n",
       "9            Jamie Blair        \"Fully-configurable cohesive archive\"   \n",
       "\n",
       "                               email                 phone  \\\n",
       "0  pattersonstephen@walker-brown.com     294-311-6002x7020   \n",
       "1                 jill43@hotmail.com          573-385-6306   \n",
       "2               ucollins@hotmail.com    580-649-1752x54465   \n",
       "3             erictownsend@yahoo.com     999-308-9772x0808   \n",
       "4              sarahburton@black.com   +1-327-770-7479x399   \n",
       "5  vazquezjeffery@ryan-richards.info  001-332-420-4827x867   \n",
       "6               oschneider@gmail.com    878.359.0467x29797   \n",
       "7             mendezsherry@gmail.com   +1-787-310-9526x210   \n",
       "8                   lelisa@gmail.com   +1-654-097-3805x120   \n",
       "9              vasquezjack@lewis.com     (252)196-3780x140   \n",
       "\n",
       "                                             address  \n",
       "0                456 Cox Drives, Changstad, OR 64982  \n",
       "1             492 Hill Rapid, East Michael, LA 20088  \n",
       "2  135 Richardson Groves Apt. 236, Blevinsbury, N...  \n",
       "3  97757 Lynn Throughway Suite 082, Morrisonside,...  \n",
       "4    950 Morrison Light, North Derrickport, IL 72442  \n",
       "5        78941 Kyle Expressway, Thomasland, AZ 21475  \n",
       "6     35278 Oconnor Canyon, North Michelle, PA 53985  \n",
       "7  3820 Julie Crossing Suite 926, East Elizabethp...  \n",
       "8  741 Kline Mission Apt. 088, Fischerhaven, NY 7...  \n",
       "9       863 Jacob Port Apt. 872, Monteston, UT 63018  "
      ]
     },
     "execution_count": 32,
     "metadata": {},
     "output_type": "execute_result"
    }
   ],
   "source": [
    "pd.DataFrame([parse_people(person) for person in people])"
   ]
  },
  {
   "cell_type": "markdown",
   "id": "f539ee77-80c0-47a9-a18d-d6261e81d4df",
   "metadata": {},
   "source": [
    "# Exercises"
   ]
  },
  {
   "cell_type": "markdown",
   "id": "42653299-e68b-4d02-b53c-3fe654cb5624",
   "metadata": {},
   "source": [
    "By the end of this exercise, you should have a file named acquire.py that contains the specified functions. If you wish, you may break your work into separate files for each website (e.g. `acquire_codeup_blog.py` and `acquire_news_articles.py`), but the end function should be present in `acquire.py` (that is, `acquire.py` should `import get_blog_articles` from the `acquire_codeup_blog` module.)"
   ]
  },
  {
   "cell_type": "markdown",
   "id": "8f799ff1-eeb3-4f53-9223-aba0b1cfc57a",
   "metadata": {},
   "source": [
    "## Codeup Blog Articles"
   ]
  },
  {
   "cell_type": "markdown",
   "id": "04b21815-5980-426a-932d-78243a580aca",
   "metadata": {},
   "source": [
    "Visit Codeup's Blog and record the urls for at least 5 distinct blog posts. For each post, you should scrape at least the post's `title` and `content`.\n",
    "\n",
    "Encapsulate your work in a function named `get_blog_articles` that will return a list of dictionaries, with each dictionary representing one article. The shape of each dictionary should look like this:\n",
    "\n",
    "`{'title': 'the title of the article', 'content': 'the full text content of the article'}`\n",
    "\n",
    "Plus any additional properties you think might be helpful.\n",
    "\n",
    "*Bonus: Scrape the text of all the articles linked on codeup's blog page.*"
   ]
  },
  {
   "cell_type": "code",
   "execution_count": 33,
   "id": "20cd32e8-7b05-404a-9e4c-072f7a2adccb",
   "metadata": {},
   "outputs": [],
   "source": [
    "# make the HTTP request\n",
    "url = 'https://codeup.com/data-science/why-you-should-become-a-data-scientist/'\n",
    "headers = {'User-Agent': 'Codeup Data Science Germain Cohort'} # Some websites don't accept the pyhon-requests default user-agent\n",
    "response = requests.get(url, headers=headers)"
   ]
  },
  {
   "cell_type": "code",
   "execution_count": 34,
   "id": "18f0491a-be82-4c07-b8c8-4cd7a664346a",
   "metadata": {},
   "outputs": [],
   "source": [
    "# pull the text out of the response\n",
    "html = response.text"
   ]
  },
  {
   "cell_type": "code",
   "execution_count": 35,
   "id": "9d48727b-37fa-4af6-8c2d-7afb2919508b",
   "metadata": {},
   "outputs": [],
   "source": [
    "# pass HTML into Beautiful Soup\n",
    "soup = BeautifulSoup(html)"
   ]
  },
  {
   "cell_type": "code",
   "execution_count": 36,
   "id": "9e0f3d83-3039-49c3-8558-bed097d8a0f3",
   "metadata": {},
   "outputs": [
    {
     "data": {
      "text/plain": [
       "'Why You Should Become a Data Scientist'"
      ]
     },
     "execution_count": 36,
     "metadata": {},
     "output_type": "execute_result"
    }
   ],
   "source": [
    "# lets just grab the title\n",
    "soup.select('.et_pb_title_container')[0].h1.text"
   ]
  },
  {
   "cell_type": "code",
   "execution_count": 37,
   "id": "1e0d4445-497b-430d-8aef-f69be0c7ffa8",
   "metadata": {},
   "outputs": [
    {
     "data": {
      "text/plain": [
       "18"
      ]
     },
     "execution_count": 37,
     "metadata": {},
     "output_type": "execute_result"
    }
   ],
   "source": [
    "# let's get the text of the article\n",
    "len(soup.select('.et_pb_post_content_0_tb_body')[0].find_all('p'))"
   ]
  },
  {
   "cell_type": "code",
   "execution_count": 38,
   "id": "c59b2f9b-e4ca-4c00-b10d-90de8e30116e",
   "metadata": {},
   "outputs": [],
   "source": [
    "# get list of all paragraphs\n",
    "paragraphs = soup.select('.et_pb_post_content_0_tb_body')[0].find_all('p')"
   ]
  },
  {
   "cell_type": "code",
   "execution_count": 39,
   "id": "c44d063c-20e1-4f3b-8bbb-d85f0e8f257c",
   "metadata": {},
   "outputs": [
    {
     "data": {
      "text/plain": [
       "18"
      ]
     },
     "execution_count": 39,
     "metadata": {},
     "output_type": "execute_result"
    }
   ],
   "source": [
    "len(paragraphs)"
   ]
  },
  {
   "cell_type": "code",
   "execution_count": 40,
   "id": "631be57a-e937-4734-b168-0c87883304c3",
   "metadata": {},
   "outputs": [
    {
     "data": {
      "text/plain": [
       "'What do you look for in a career? Chances are, you’re looking for a way to make use of your particular talents, a field that’s secure and reliable, a work/life balance, and good compensation. For the right people, data science offers all of that and more! It was LinkedIn’s #1 Most Promising Job in 2019, and Glassdoor’s 2nd Best Job of 2021! Actually, Data Scientists topped that list from 2016 to 2019 before being dethroned by developers, which we also train at Codeup. So why all the hype? What makes it the best? Keep reading to learn why you should become a Data Scientist!'"
      ]
     },
     "execution_count": 40,
     "metadata": {},
     "output_type": "execute_result"
    }
   ],
   "source": [
    "# let's look at one paragraph\n",
    "paragraphs[0].text"
   ]
  },
  {
   "cell_type": "code",
   "execution_count": 41,
   "id": "05d35fbf-d788-423b-9fc3-1992c47f92f3",
   "metadata": {},
   "outputs": [],
   "source": [
    "# create a large block of text by combining all paragraphs\n",
    "all_text = ''\n",
    "for paragraph in paragraphs:\n",
    "    all_text += (paragraph.text)"
   ]
  },
  {
   "cell_type": "code",
   "execution_count": 42,
   "id": "8bb3a1d4-1b4a-4eb8-aed9-7b0b372565ef",
   "metadata": {},
   "outputs": [],
   "source": [
    "# compile into function\n",
    "def get_blog(url, user_agent):\n",
    "    headers = {'User-Agent': user_agent}\n",
    "    response = requests.get(url, headers=headers)\n",
    "    html = response.text\n",
    "    soup = BeautifulSoup(html)\n",
    "    title = soup.select('.et_pb_title_container')[0].h1.text\n",
    "    paragraphs = soup.select('.et_pb_post_content_0_tb_body')[0].find_all('p')\n",
    "    all_text = ''\n",
    "    for paragraph in paragraphs:\n",
    "        all_text += (paragraph.text)\n",
    "    return({\n",
    "        'title' : title,\n",
    "        'content' : all_text\n",
    "    })"
   ]
  },
  {
   "cell_type": "code",
   "execution_count": 43,
   "id": "08272dbb-b153-4a1b-bda2-ce78478bb696",
   "metadata": {},
   "outputs": [],
   "source": [
    "# get_blog('https://codeup.com/data-science/why-you-should-become-a-data-scientist/', 'Codeup Data Science Germain')"
   ]
  },
  {
   "cell_type": "code",
   "execution_count": 44,
   "id": "f073d284-37bd-4720-8633-ebfd05208660",
   "metadata": {},
   "outputs": [],
   "source": [
    "# repeat this for 5 articles\n",
    "urls = [\n",
    "    'https://codeup.com/data-science/why-you-should-become-a-data-scientist/',\n",
    "    'https://codeup.com/data-science/math-in-data-science/',\n",
    "    'https://codeup.com/data-science/transition-into-data-science/',\n",
    "    'https://codeup.com/data-science/data-science-career/',\n",
    "    'https://codeup.com/data-science/what-is-python/'\n",
    "]"
   ]
  },
  {
   "cell_type": "code",
   "execution_count": 45,
   "id": "1caf0e24-3da4-416c-8988-d0b1ba4d95ca",
   "metadata": {},
   "outputs": [
    {
     "data": {
      "text/plain": [
       "['https://codeup.com/data-science/why-you-should-become-a-data-scientist/',\n",
       " 'https://codeup.com/data-science/math-in-data-science/',\n",
       " 'https://codeup.com/data-science/transition-into-data-science/',\n",
       " 'https://codeup.com/data-science/data-science-career/',\n",
       " 'https://codeup.com/data-science/what-is-python/']"
      ]
     },
     "execution_count": 45,
     "metadata": {},
     "output_type": "execute_result"
    }
   ],
   "source": [
    "urls"
   ]
  },
  {
   "cell_type": "code",
   "execution_count": 46,
   "id": "53914534-aefe-4205-a3ca-3a586aa6a80a",
   "metadata": {},
   "outputs": [],
   "source": [
    "blogs = pd.DataFrame([get_blog(url, 'Codeup Data Science Germain') for url in urls])"
   ]
  },
  {
   "cell_type": "code",
   "execution_count": 47,
   "id": "9ce27a03-1e95-43ef-b3b3-0d6ce6dca90d",
   "metadata": {},
   "outputs": [
    {
     "data": {
      "text/html": [
       "<div>\n",
       "<style scoped>\n",
       "    .dataframe tbody tr th:only-of-type {\n",
       "        vertical-align: middle;\n",
       "    }\n",
       "\n",
       "    .dataframe tbody tr th {\n",
       "        vertical-align: top;\n",
       "    }\n",
       "\n",
       "    .dataframe thead th {\n",
       "        text-align: right;\n",
       "    }\n",
       "</style>\n",
       "<table border=\"1\" class=\"dataframe\">\n",
       "  <thead>\n",
       "    <tr style=\"text-align: right;\">\n",
       "      <th></th>\n",
       "      <th>title</th>\n",
       "      <th>content</th>\n",
       "    </tr>\n",
       "  </thead>\n",
       "  <tbody>\n",
       "    <tr>\n",
       "      <th>0</th>\n",
       "      <td>Why You Should Become a Data Scientist</td>\n",
       "      <td>What do you look for in a career? Chances are,...</td>\n",
       "    </tr>\n",
       "    <tr>\n",
       "      <th>1</th>\n",
       "      <td>What are the Math and Stats Principles You Nee...</td>\n",
       "      <td>Coming into our Data Science program, you will...</td>\n",
       "    </tr>\n",
       "    <tr>\n",
       "      <th>2</th>\n",
       "      <td>What is the Transition into Data Science Like?</td>\n",
       "      <td>Alumni Katy Salts and Brandi Reger joined us a...</td>\n",
       "    </tr>\n",
       "    <tr>\n",
       "      <th>3</th>\n",
       "      <td>What Data Science Career is For You?</td>\n",
       "      <td>If you’re struggling to see yourself as a data...</td>\n",
       "    </tr>\n",
       "    <tr>\n",
       "      <th>4</th>\n",
       "      <td>What is Python?</td>\n",
       "      <td>If you’ve been digging around our website or r...</td>\n",
       "    </tr>\n",
       "  </tbody>\n",
       "</table>\n",
       "</div>"
      ],
      "text/plain": [
       "                                               title  \\\n",
       "0             Why You Should Become a Data Scientist   \n",
       "1  What are the Math and Stats Principles You Nee...   \n",
       "2     What is the Transition into Data Science Like?   \n",
       "3               What Data Science Career is For You?   \n",
       "4                                    What is Python?   \n",
       "\n",
       "                                             content  \n",
       "0  What do you look for in a career? Chances are,...  \n",
       "1  Coming into our Data Science program, you will...  \n",
       "2  Alumni Katy Salts and Brandi Reger joined us a...  \n",
       "3  If you’re struggling to see yourself as a data...  \n",
       "4  If you’ve been digging around our website or r...  "
      ]
     },
     "execution_count": 47,
     "metadata": {},
     "output_type": "execute_result"
    }
   ],
   "source": [
    "blogs"
   ]
  },
  {
   "cell_type": "code",
   "execution_count": 48,
   "id": "95a1e460-bd2f-458f-b9a8-220c20cf73dd",
   "metadata": {},
   "outputs": [],
   "source": [
    "def get_blog_articles(url_list, user_agent):\n",
    "    return pd.DataFrame([get_blog(url, user_agent) for url in urls])"
   ]
  },
  {
   "cell_type": "code",
   "execution_count": 49,
   "id": "ff13d318-3d76-4def-a9c5-b1f4920342af",
   "metadata": {},
   "outputs": [
    {
     "data": {
      "text/html": [
       "<div>\n",
       "<style scoped>\n",
       "    .dataframe tbody tr th:only-of-type {\n",
       "        vertical-align: middle;\n",
       "    }\n",
       "\n",
       "    .dataframe tbody tr th {\n",
       "        vertical-align: top;\n",
       "    }\n",
       "\n",
       "    .dataframe thead th {\n",
       "        text-align: right;\n",
       "    }\n",
       "</style>\n",
       "<table border=\"1\" class=\"dataframe\">\n",
       "  <thead>\n",
       "    <tr style=\"text-align: right;\">\n",
       "      <th></th>\n",
       "      <th>title</th>\n",
       "      <th>content</th>\n",
       "    </tr>\n",
       "  </thead>\n",
       "  <tbody>\n",
       "    <tr>\n",
       "      <th>0</th>\n",
       "      <td>Why You Should Become a Data Scientist</td>\n",
       "      <td>What do you look for in a career? Chances are,...</td>\n",
       "    </tr>\n",
       "    <tr>\n",
       "      <th>1</th>\n",
       "      <td>What are the Math and Stats Principles You Nee...</td>\n",
       "      <td>Coming into our Data Science program, you will...</td>\n",
       "    </tr>\n",
       "    <tr>\n",
       "      <th>2</th>\n",
       "      <td>What is the Transition into Data Science Like?</td>\n",
       "      <td>Alumni Katy Salts and Brandi Reger joined us a...</td>\n",
       "    </tr>\n",
       "    <tr>\n",
       "      <th>3</th>\n",
       "      <td>What Data Science Career is For You?</td>\n",
       "      <td>If you’re struggling to see yourself as a data...</td>\n",
       "    </tr>\n",
       "    <tr>\n",
       "      <th>4</th>\n",
       "      <td>What is Python?</td>\n",
       "      <td>If you’ve been digging around our website or r...</td>\n",
       "    </tr>\n",
       "  </tbody>\n",
       "</table>\n",
       "</div>"
      ],
      "text/plain": [
       "                                               title  \\\n",
       "0             Why You Should Become a Data Scientist   \n",
       "1  What are the Math and Stats Principles You Nee...   \n",
       "2     What is the Transition into Data Science Like?   \n",
       "3               What Data Science Career is For You?   \n",
       "4                                    What is Python?   \n",
       "\n",
       "                                             content  \n",
       "0  What do you look for in a career? Chances are,...  \n",
       "1  Coming into our Data Science program, you will...  \n",
       "2  Alumni Katy Salts and Brandi Reger joined us a...  \n",
       "3  If you’re struggling to see yourself as a data...  \n",
       "4  If you’ve been digging around our website or r...  "
      ]
     },
     "execution_count": 49,
     "metadata": {},
     "output_type": "execute_result"
    }
   ],
   "source": [
    "get_blog_articles(urls, 'Codeup Data Science Germain')"
   ]
  },
  {
   "cell_type": "code",
   "execution_count": 50,
   "id": "1066ca97-e8fd-4100-9722-7f9531543a5d",
   "metadata": {},
   "outputs": [],
   "source": [
    "# let's see if I can isolate all urls from main page\n",
    "# soup.find_all('a')"
   ]
  },
  {
   "cell_type": "markdown",
   "id": "f3e84874-3300-43d7-bb77-c2d2a4abac3f",
   "metadata": {},
   "source": [
    "## News Articles"
   ]
  },
  {
   "cell_type": "markdown",
   "id": "7a071ad9-50f3-4908-a39e-f1bd93e4acff",
   "metadata": {},
   "source": [
    "We will now be scraping text data from inshorts, a website that provides a brief overview of many different topics.\n",
    "\n",
    "Write a function that scrapes the news articles for the following topics:\n",
    "\n",
    "Business\n",
    "Sports\n",
    "Technology\n",
    "Entertainment\n",
    "The end product of this should be a function named get_news_articles that returns a list of dictionaries, where each dictionary has this shape:\n",
    "\n",
    "{\n",
    "    'title': 'The article title',\n",
    "    'content': 'The article content',\n",
    "    'category': 'business' # for example\n",
    "}\n",
    "\n",
    "Hints:\n",
    "\n",
    "Start by inspecting the website in your browser. Figure out which elements will be useful.\n",
    "Start by creating a function that handles a single article and produces a dictionary like the one above.\n",
    "Next create a function that will find all the articles on a single page and call the function you created in the last step for every article on the page.\n",
    "Now create a function that will use the previous two functions to scrape the articles from all the pages that you need, and do any additional processing that needs to be done."
   ]
  },
  {
   "cell_type": "code",
   "execution_count": 51,
   "id": "d091e468-5af4-42b2-ba2d-f6e4afec449d",
   "metadata": {},
   "outputs": [],
   "source": [
    "# make the HTTP request\n",
    "url = 'https://inshorts.com/en/read/business'\n",
    "headers = {'User-Agent': 'Codeup Data Science Germain Cohort'} # Some websites don't accept the pyhon-requests default user-agent\n",
    "response = requests.get(url, headers=headers)"
   ]
  },
  {
   "cell_type": "code",
   "execution_count": 52,
   "id": "11df6145-4036-40d1-a6ff-e1ab407b7ca7",
   "metadata": {},
   "outputs": [],
   "source": [
    "# pull the text out of the response\n",
    "html = response.text"
   ]
  },
  {
   "cell_type": "code",
   "execution_count": 53,
   "id": "65effd65-0c0a-4909-b533-f7ef9d6da6c6",
   "metadata": {},
   "outputs": [],
   "source": [
    "# pass HTML into Beautiful Soup\n",
    "soup = BeautifulSoup(html)"
   ]
  },
  {
   "cell_type": "code",
   "execution_count": 54,
   "id": "52fb362f-8b4d-43bf-bbf2-980ee968953a",
   "metadata": {},
   "outputs": [],
   "source": [
    "# first, I will grab each card\n",
    "articles = soup.select('.news-card.z-depth-1')"
   ]
  },
  {
   "cell_type": "code",
   "execution_count": 55,
   "id": "7e7bdcab-d87c-48d1-931a-7b7b3f6172e2",
   "metadata": {},
   "outputs": [
    {
     "data": {
      "text/plain": [
       "25"
      ]
     },
     "execution_count": 55,
     "metadata": {},
     "output_type": "execute_result"
    }
   ],
   "source": [
    "len(articles)"
   ]
  },
  {
   "cell_type": "code",
   "execution_count": 56,
   "id": "5b32970b-555e-46c7-9db0-df8415c423c6",
   "metadata": {},
   "outputs": [
    {
     "data": {
      "text/plain": [
       "\"India's Covaxin may get WHO approval in next 24 hours: Spokesperson\""
      ]
     },
     "execution_count": 56,
     "metadata": {},
     "output_type": "execute_result"
    }
   ],
   "source": [
    "# lets just grab the title\n",
    "articles[0].select('.news-card-title')[0].span.text"
   ]
  },
  {
   "cell_type": "code",
   "execution_count": 57,
   "id": "cf14acd8-1d32-4400-bed2-7fab4aadc03d",
   "metadata": {},
   "outputs": [
    {
     "data": {
      "text/plain": [
       "'A WHO technical advisory group which met on Tuesday to consider Bharat Biotech\\'s COVID-19 vaccine Covaxin for emergency use listing is likely to announce its decision soon. \"If all is in place and all goes well and if the committee is satisfied, we would expect a recommendation within the next 24 hours or so,\" WHO spokesperson Margaret Harris told reporters. '"
      ]
     },
     "execution_count": 57,
     "metadata": {},
     "output_type": "execute_result"
    }
   ],
   "source": [
    "# let's look at one paragraph\n",
    "articles[0].select('.news-card-content')[0].div.text"
   ]
  },
  {
   "cell_type": "code",
   "execution_count": 58,
   "id": "e34a6d8e-01fc-4c63-b6ca-467c1b3e6b03",
   "metadata": {},
   "outputs": [],
   "source": [
    "# create the function to just pull out title, short, and topic\n",
    "def parse_card(article, topic):\n",
    "    title = article.select('.news-card-title')[0].span.text\n",
    "    content = article.select('.news-card-content')[0].div.text\n",
    "    topic = topic\n",
    "    return {\n",
    "        'title' : title,\n",
    "        'content' : content,\n",
    "        'topic' : topic\n",
    "    }"
   ]
  },
  {
   "cell_type": "code",
   "execution_count": 59,
   "id": "118cf182-9c74-4072-83a6-8f61651ed590",
   "metadata": {},
   "outputs": [],
   "source": [
    "# define a function that gets all article info for articles on that page\n",
    "def get_article_info(base_url, topic, user_agent):\n",
    "    url = base_url + topic\n",
    "    headers = {'User-Agent': user_agent}\n",
    "    response = requests.get(url, headers=headers)\n",
    "    html = response.text\n",
    "    soup = BeautifulSoup(html)\n",
    "    articles = soup.select('.news-card.z-depth-1')\n",
    "    return pd.DataFrame([parse_card(article, topic) for article in articles])"
   ]
  },
  {
   "cell_type": "code",
   "execution_count": 60,
   "id": "92278bf0-9e08-4b5b-a0f7-c1310fefda36",
   "metadata": {},
   "outputs": [
    {
     "data": {
      "text/html": [
       "<div>\n",
       "<style scoped>\n",
       "    .dataframe tbody tr th:only-of-type {\n",
       "        vertical-align: middle;\n",
       "    }\n",
       "\n",
       "    .dataframe tbody tr th {\n",
       "        vertical-align: top;\n",
       "    }\n",
       "\n",
       "    .dataframe thead th {\n",
       "        text-align: right;\n",
       "    }\n",
       "</style>\n",
       "<table border=\"1\" class=\"dataframe\">\n",
       "  <thead>\n",
       "    <tr style=\"text-align: right;\">\n",
       "      <th></th>\n",
       "      <th>title</th>\n",
       "      <th>content</th>\n",
       "      <th>topic</th>\n",
       "    </tr>\n",
       "  </thead>\n",
       "  <tbody>\n",
       "    <tr>\n",
       "      <th>0</th>\n",
       "      <td>India's Covaxin may get WHO approval in next 2...</td>\n",
       "      <td>A WHO technical advisory group which met on Tu...</td>\n",
       "      <td>business</td>\n",
       "    </tr>\n",
       "    <tr>\n",
       "      <th>1</th>\n",
       "      <td>Which companies have $1 trillion or more marke...</td>\n",
       "      <td>Tesla has become the latest company to surpass...</td>\n",
       "      <td>business</td>\n",
       "    </tr>\n",
       "    <tr>\n",
       "      <th>2</th>\n",
       "      <td>I decided to support Doge as it felt like the ...</td>\n",
       "      <td>Tesla CEO and the world's richest person Elon ...</td>\n",
       "      <td>business</td>\n",
       "    </tr>\n",
       "    <tr>\n",
       "      <th>3</th>\n",
       "      <td>How many years did it take for various compan...</td>\n",
       "      <td>Tesla took 18 years to hit the $1-trillion m-c...</td>\n",
       "      <td>business</td>\n",
       "    </tr>\n",
       "    <tr>\n",
       "      <th>4</th>\n",
       "      <td>Elon Musk tweets 'Wild $T1mes' after Tesla hit...</td>\n",
       "      <td>Tesla CEO and the world's richest person Elon ...</td>\n",
       "      <td>business</td>\n",
       "    </tr>\n",
       "    <tr>\n",
       "      <th>5</th>\n",
       "      <td>Govt sends 202 notices to e-comm firms in a ye...</td>\n",
       "      <td>The government issued 202 notices to e-commerc...</td>\n",
       "      <td>business</td>\n",
       "    </tr>\n",
       "    <tr>\n",
       "      <th>6</th>\n",
       "      <td>Policybazaar fixes price band for its IPO at ₹...</td>\n",
       "      <td>PB Fintech, the operator of online insurance a...</td>\n",
       "      <td>business</td>\n",
       "    </tr>\n",
       "    <tr>\n",
       "      <th>7</th>\n",
       "      <td>BharatPe opposes PhonePe's trademarks for usin...</td>\n",
       "      <td>BharatPe's holding firm Resilient Innovations ...</td>\n",
       "      <td>business</td>\n",
       "    </tr>\n",
       "    <tr>\n",
       "      <th>8</th>\n",
       "      <td>India spending ₹8 lakh cr on petrol, diesel im...</td>\n",
       "      <td>Road Transport Minister Nitin Gadkari said tha...</td>\n",
       "      <td>business</td>\n",
       "    </tr>\n",
       "    <tr>\n",
       "      <th>9</th>\n",
       "      <td>Govt to pitch to Tesla, Samsung for local batt...</td>\n",
       "      <td>The government is planning to pitch to compani...</td>\n",
       "      <td>business</td>\n",
       "    </tr>\n",
       "    <tr>\n",
       "      <th>10</th>\n",
       "      <td>Crypto fund inflows hit record $1.5 bn as US B...</td>\n",
       "      <td>Investors poured a record $1.5 billion into th...</td>\n",
       "      <td>business</td>\n",
       "    </tr>\n",
       "    <tr>\n",
       "      <th>11</th>\n",
       "      <td>Ant Group changed name for NFTs amid China cry...</td>\n",
       "      <td>Jack Ma's Ant Group changed the name for NFTs ...</td>\n",
       "      <td>business</td>\n",
       "    </tr>\n",
       "    <tr>\n",
       "      <th>12</th>\n",
       "      <td>Jaguar Land Rover extends production cuts amid...</td>\n",
       "      <td>Tata Motors-owned Jaguar Land Rover has decide...</td>\n",
       "      <td>business</td>\n",
       "    </tr>\n",
       "    <tr>\n",
       "      <th>13</th>\n",
       "      <td>Fino Payments Bank sets price band for ₹1,200 ...</td>\n",
       "      <td>Fino Payments Bank has fixed the price band fo...</td>\n",
       "      <td>business</td>\n",
       "    </tr>\n",
       "    <tr>\n",
       "      <th>14</th>\n",
       "      <td>Nykaa shares trade at 60% premium in grey mark...</td>\n",
       "      <td>The unlisted shares of Nykaa's parent company ...</td>\n",
       "      <td>business</td>\n",
       "    </tr>\n",
       "    <tr>\n",
       "      <th>15</th>\n",
       "      <td>Snapdeal appoints 2 independent directors ahea...</td>\n",
       "      <td>Snapdeal has strengthened two ESG-focussed ind...</td>\n",
       "      <td>business</td>\n",
       "    </tr>\n",
       "    <tr>\n",
       "      <th>16</th>\n",
       "      <td>1,00,000 Tesla cars sold to Hertz at same pric...</td>\n",
       "      <td>After US car rental company Hertz's order for ...</td>\n",
       "      <td>business</td>\n",
       "    </tr>\n",
       "    <tr>\n",
       "      <th>17</th>\n",
       "      <td>Govt plans to complete privatisation of 13 air...</td>\n",
       "      <td>Airports Authority of India (AAI) Chairman San...</td>\n",
       "      <td>business</td>\n",
       "    </tr>\n",
       "    <tr>\n",
       "      <th>18</th>\n",
       "      <td>₹150 cr unaccounted income detected after raid...</td>\n",
       "      <td>The Ministry of Finance said that the Income T...</td>\n",
       "      <td>business</td>\n",
       "    </tr>\n",
       "    <tr>\n",
       "      <th>19</th>\n",
       "      <td>Adani exploring investment in Sri Lanka's rene...</td>\n",
       "      <td>Sri Lanka's Ceylon Electricity Board (CEB) Vic...</td>\n",
       "      <td>business</td>\n",
       "    </tr>\n",
       "    <tr>\n",
       "      <th>20</th>\n",
       "      <td>Zee cancels board meeting on quarterly results...</td>\n",
       "      <td>Zee Entertainment said it has cancelled its bo...</td>\n",
       "      <td>business</td>\n",
       "    </tr>\n",
       "    <tr>\n",
       "      <th>21</th>\n",
       "      <td>SBI, UCO Bank agree to invest ₹450 cr in Amrap...</td>\n",
       "      <td>The Supreme Court was told by senior advocate ...</td>\n",
       "      <td>business</td>\n",
       "    </tr>\n",
       "    <tr>\n",
       "      <th>22</th>\n",
       "      <td>Bombay HC grants injunction to Zee, restrains ...</td>\n",
       "      <td>The Bombay High Court on Tuesday granted an in...</td>\n",
       "      <td>business</td>\n",
       "    </tr>\n",
       "    <tr>\n",
       "      <th>23</th>\n",
       "      <td>High probability of oil reaching $100 per barr...</td>\n",
       "      <td>Larry Fink, CEO of the world's largest asset m...</td>\n",
       "      <td>business</td>\n",
       "    </tr>\n",
       "    <tr>\n",
       "      <th>24</th>\n",
       "      <td>RBI fines Vasai Vikas Sahakari Bank ₹90 lakh f...</td>\n",
       "      <td>The RBI on Tuesday said that it has imposed a ...</td>\n",
       "      <td>business</td>\n",
       "    </tr>\n",
       "  </tbody>\n",
       "</table>\n",
       "</div>"
      ],
      "text/plain": [
       "                                                title  \\\n",
       "0   India's Covaxin may get WHO approval in next 2...   \n",
       "1   Which companies have $1 trillion or more marke...   \n",
       "2   I decided to support Doge as it felt like the ...   \n",
       "3    How many years did it take for various compan...   \n",
       "4   Elon Musk tweets 'Wild $T1mes' after Tesla hit...   \n",
       "5   Govt sends 202 notices to e-comm firms in a ye...   \n",
       "6   Policybazaar fixes price band for its IPO at ₹...   \n",
       "7   BharatPe opposes PhonePe's trademarks for usin...   \n",
       "8   India spending ₹8 lakh cr on petrol, diesel im...   \n",
       "9   Govt to pitch to Tesla, Samsung for local batt...   \n",
       "10  Crypto fund inflows hit record $1.5 bn as US B...   \n",
       "11  Ant Group changed name for NFTs amid China cry...   \n",
       "12  Jaguar Land Rover extends production cuts amid...   \n",
       "13  Fino Payments Bank sets price band for ₹1,200 ...   \n",
       "14  Nykaa shares trade at 60% premium in grey mark...   \n",
       "15  Snapdeal appoints 2 independent directors ahea...   \n",
       "16  1,00,000 Tesla cars sold to Hertz at same pric...   \n",
       "17  Govt plans to complete privatisation of 13 air...   \n",
       "18  ₹150 cr unaccounted income detected after raid...   \n",
       "19  Adani exploring investment in Sri Lanka's rene...   \n",
       "20  Zee cancels board meeting on quarterly results...   \n",
       "21  SBI, UCO Bank agree to invest ₹450 cr in Amrap...   \n",
       "22  Bombay HC grants injunction to Zee, restrains ...   \n",
       "23  High probability of oil reaching $100 per barr...   \n",
       "24  RBI fines Vasai Vikas Sahakari Bank ₹90 lakh f...   \n",
       "\n",
       "                                              content     topic  \n",
       "0   A WHO technical advisory group which met on Tu...  business  \n",
       "1   Tesla has become the latest company to surpass...  business  \n",
       "2   Tesla CEO and the world's richest person Elon ...  business  \n",
       "3   Tesla took 18 years to hit the $1-trillion m-c...  business  \n",
       "4   Tesla CEO and the world's richest person Elon ...  business  \n",
       "5   The government issued 202 notices to e-commerc...  business  \n",
       "6   PB Fintech, the operator of online insurance a...  business  \n",
       "7   BharatPe's holding firm Resilient Innovations ...  business  \n",
       "8   Road Transport Minister Nitin Gadkari said tha...  business  \n",
       "9   The government is planning to pitch to compani...  business  \n",
       "10  Investors poured a record $1.5 billion into th...  business  \n",
       "11  Jack Ma's Ant Group changed the name for NFTs ...  business  \n",
       "12  Tata Motors-owned Jaguar Land Rover has decide...  business  \n",
       "13  Fino Payments Bank has fixed the price band fo...  business  \n",
       "14  The unlisted shares of Nykaa's parent company ...  business  \n",
       "15  Snapdeal has strengthened two ESG-focussed ind...  business  \n",
       "16  After US car rental company Hertz's order for ...  business  \n",
       "17  Airports Authority of India (AAI) Chairman San...  business  \n",
       "18  The Ministry of Finance said that the Income T...  business  \n",
       "19  Sri Lanka's Ceylon Electricity Board (CEB) Vic...  business  \n",
       "20  Zee Entertainment said it has cancelled its bo...  business  \n",
       "21  The Supreme Court was told by senior advocate ...  business  \n",
       "22  The Bombay High Court on Tuesday granted an in...  business  \n",
       "23  Larry Fink, CEO of the world's largest asset m...  business  \n",
       "24  The RBI on Tuesday said that it has imposed a ...  business  "
      ]
     },
     "execution_count": 60,
     "metadata": {},
     "output_type": "execute_result"
    }
   ],
   "source": [
    "get_article_info(base_url = 'https://inshorts.com/en/read/', topic = 'business', user_agent = 'Codeup Data Science Germain Cohort')"
   ]
  },
  {
   "cell_type": "code",
   "execution_count": 61,
   "id": "02aac905-e48d-40a0-a525-2e9e2392c131",
   "metadata": {},
   "outputs": [],
   "source": [
    "# list of pages that I want to scrape\n",
    "pages = [\n",
    "    'business',\n",
    "    'sports',\n",
    "    'technology',\n",
    "    'entertainment'\n",
    "]"
   ]
  },
  {
   "cell_type": "code",
   "execution_count": 62,
   "id": "b3a90117-2942-4979-91bc-63cad527eb49",
   "metadata": {},
   "outputs": [],
   "source": [
    "final_df = pd.DataFrame()\n",
    "for page in pages:\n",
    "    df = get_article_info(base_url = 'https://inshorts.com/en/read/', topic = page, user_agent = 'Codeup Data Science Germain Cohort')\n",
    "    final_df = pd.concat([final_df, df], ignore_index=True)"
   ]
  },
  {
   "cell_type": "code",
   "execution_count": 63,
   "id": "17039875-67d3-4134-b61f-20e4c9ffb4b4",
   "metadata": {},
   "outputs": [
    {
     "data": {
      "text/html": [
       "<div>\n",
       "<style scoped>\n",
       "    .dataframe tbody tr th:only-of-type {\n",
       "        vertical-align: middle;\n",
       "    }\n",
       "\n",
       "    .dataframe tbody tr th {\n",
       "        vertical-align: top;\n",
       "    }\n",
       "\n",
       "    .dataframe thead th {\n",
       "        text-align: right;\n",
       "    }\n",
       "</style>\n",
       "<table border=\"1\" class=\"dataframe\">\n",
       "  <thead>\n",
       "    <tr style=\"text-align: right;\">\n",
       "      <th></th>\n",
       "      <th>title</th>\n",
       "      <th>content</th>\n",
       "      <th>topic</th>\n",
       "    </tr>\n",
       "  </thead>\n",
       "  <tbody>\n",
       "    <tr>\n",
       "      <th>0</th>\n",
       "      <td>India's Covaxin may get WHO approval in next 2...</td>\n",
       "      <td>A WHO technical advisory group which met on Tu...</td>\n",
       "      <td>business</td>\n",
       "    </tr>\n",
       "    <tr>\n",
       "      <th>1</th>\n",
       "      <td>Which companies have $1 trillion or more marke...</td>\n",
       "      <td>Tesla has become the latest company to surpass...</td>\n",
       "      <td>business</td>\n",
       "    </tr>\n",
       "    <tr>\n",
       "      <th>2</th>\n",
       "      <td>I decided to support Doge as it felt like the ...</td>\n",
       "      <td>Tesla CEO and the world's richest person Elon ...</td>\n",
       "      <td>business</td>\n",
       "    </tr>\n",
       "    <tr>\n",
       "      <th>3</th>\n",
       "      <td>How many years did it take for various compan...</td>\n",
       "      <td>Tesla took 18 years to hit the $1-trillion m-c...</td>\n",
       "      <td>business</td>\n",
       "    </tr>\n",
       "    <tr>\n",
       "      <th>4</th>\n",
       "      <td>Elon Musk tweets 'Wild $T1mes' after Tesla hit...</td>\n",
       "      <td>Tesla CEO and the world's richest person Elon ...</td>\n",
       "      <td>business</td>\n",
       "    </tr>\n",
       "    <tr>\n",
       "      <th>...</th>\n",
       "      <td>...</td>\n",
       "      <td>...</td>\n",
       "      <td>...</td>\n",
       "    </tr>\n",
       "    <tr>\n",
       "      <th>95</th>\n",
       "      <td>Snoop Dogg's mother passes away, rapper posts ...</td>\n",
       "      <td>Rapper Snoop Dogg on Sunday revealed that his ...</td>\n",
       "      <td>entertainment</td>\n",
       "    </tr>\n",
       "    <tr>\n",
       "      <th>96</th>\n",
       "      <td>Jr NTR's fan injured in accident, actor helps ...</td>\n",
       "      <td>A fan of Telugu actor Jr NTR was injured in a ...</td>\n",
       "      <td>entertainment</td>\n",
       "    </tr>\n",
       "    <tr>\n",
       "      <th>97</th>\n",
       "      <td>Web is more streamlined and fair as compared t...</td>\n",
       "      <td>Actress Kritika Kamra, who was seen in the web...</td>\n",
       "      <td>entertainment</td>\n",
       "    </tr>\n",
       "    <tr>\n",
       "      <th>98</th>\n",
       "      <td>I'm so overwhelmed: B Praak on winning Nationa...</td>\n",
       "      <td>Singer B Praak, speaking about winning the Nat...</td>\n",
       "      <td>entertainment</td>\n",
       "    </tr>\n",
       "    <tr>\n",
       "      <th>99</th>\n",
       "      <td>Emilia Clarke, Chiwetel Ejiofor to star in 'Th...</td>\n",
       "      <td>'Game of Thrones' star Emilia Clarke and Oscar...</td>\n",
       "      <td>entertainment</td>\n",
       "    </tr>\n",
       "  </tbody>\n",
       "</table>\n",
       "<p>100 rows × 3 columns</p>\n",
       "</div>"
      ],
      "text/plain": [
       "                                                title  \\\n",
       "0   India's Covaxin may get WHO approval in next 2...   \n",
       "1   Which companies have $1 trillion or more marke...   \n",
       "2   I decided to support Doge as it felt like the ...   \n",
       "3    How many years did it take for various compan...   \n",
       "4   Elon Musk tweets 'Wild $T1mes' after Tesla hit...   \n",
       "..                                                ...   \n",
       "95  Snoop Dogg's mother passes away, rapper posts ...   \n",
       "96  Jr NTR's fan injured in accident, actor helps ...   \n",
       "97  Web is more streamlined and fair as compared t...   \n",
       "98  I'm so overwhelmed: B Praak on winning Nationa...   \n",
       "99  Emilia Clarke, Chiwetel Ejiofor to star in 'Th...   \n",
       "\n",
       "                                              content          topic  \n",
       "0   A WHO technical advisory group which met on Tu...       business  \n",
       "1   Tesla has become the latest company to surpass...       business  \n",
       "2   Tesla CEO and the world's richest person Elon ...       business  \n",
       "3   Tesla took 18 years to hit the $1-trillion m-c...       business  \n",
       "4   Tesla CEO and the world's richest person Elon ...       business  \n",
       "..                                                ...            ...  \n",
       "95  Rapper Snoop Dogg on Sunday revealed that his ...  entertainment  \n",
       "96  A fan of Telugu actor Jr NTR was injured in a ...  entertainment  \n",
       "97  Actress Kritika Kamra, who was seen in the web...  entertainment  \n",
       "98  Singer B Praak, speaking about winning the Nat...  entertainment  \n",
       "99  'Game of Thrones' star Emilia Clarke and Oscar...  entertainment  \n",
       "\n",
       "[100 rows x 3 columns]"
      ]
     },
     "execution_count": 63,
     "metadata": {},
     "output_type": "execute_result"
    }
   ],
   "source": [
    "final_df"
   ]
  },
  {
   "cell_type": "code",
   "execution_count": 64,
   "id": "aa0bccb7-42bd-4010-9ec2-65c7f2e6f852",
   "metadata": {},
   "outputs": [],
   "source": [
    "# compile into a final function\n",
    "def get_articles(topic_list, base_url, user_agent):\n",
    "    final_df = pd.DataFrame()\n",
    "    for topic in topic_list:\n",
    "        df = get_article_info(base_url = base_url, topic = topic, user_agent = user_agent)\n",
    "        final_df = pd.concat([final_df, df], ignore_index=True)\n",
    "    return final_df"
   ]
  },
  {
   "cell_type": "code",
   "execution_count": 65,
   "id": "0746cf93-1c64-47fc-b644-9b12a7bd2e6d",
   "metadata": {},
   "outputs": [],
   "source": [
    "df = get_articles(topic_list=pages, base_url='https://inshorts.com/en/read/', user_agent='Codeup Data Science Germain Cohort')"
   ]
  },
  {
   "cell_type": "code",
   "execution_count": 66,
   "id": "04580bb0-fde7-4952-927b-e3c6c4346523",
   "metadata": {},
   "outputs": [
    {
     "data": {
      "text/plain": [
       "(100, 3)"
      ]
     },
     "execution_count": 66,
     "metadata": {},
     "output_type": "execute_result"
    }
   ],
   "source": [
    "df.shape"
   ]
  },
  {
   "cell_type": "code",
   "execution_count": 67,
   "id": "51844a19-251c-449d-9dd2-619647fd6980",
   "metadata": {},
   "outputs": [
    {
     "data": {
      "text/html": [
       "<div>\n",
       "<style scoped>\n",
       "    .dataframe tbody tr th:only-of-type {\n",
       "        vertical-align: middle;\n",
       "    }\n",
       "\n",
       "    .dataframe tbody tr th {\n",
       "        vertical-align: top;\n",
       "    }\n",
       "\n",
       "    .dataframe thead th {\n",
       "        text-align: right;\n",
       "    }\n",
       "</style>\n",
       "<table border=\"1\" class=\"dataframe\">\n",
       "  <thead>\n",
       "    <tr style=\"text-align: right;\">\n",
       "      <th></th>\n",
       "      <th>title</th>\n",
       "      <th>content</th>\n",
       "      <th>topic</th>\n",
       "    </tr>\n",
       "  </thead>\n",
       "  <tbody>\n",
       "    <tr>\n",
       "      <th>0</th>\n",
       "      <td>India's Covaxin may get WHO approval in next 2...</td>\n",
       "      <td>A WHO technical advisory group which met on Tu...</td>\n",
       "      <td>business</td>\n",
       "    </tr>\n",
       "    <tr>\n",
       "      <th>1</th>\n",
       "      <td>Which companies have $1 trillion or more marke...</td>\n",
       "      <td>Tesla has become the latest company to surpass...</td>\n",
       "      <td>business</td>\n",
       "    </tr>\n",
       "    <tr>\n",
       "      <th>2</th>\n",
       "      <td>I decided to support Doge as it felt like the ...</td>\n",
       "      <td>Tesla CEO and the world's richest person Elon ...</td>\n",
       "      <td>business</td>\n",
       "    </tr>\n",
       "    <tr>\n",
       "      <th>3</th>\n",
       "      <td>How many years did it take for various compan...</td>\n",
       "      <td>Tesla took 18 years to hit the $1-trillion m-c...</td>\n",
       "      <td>business</td>\n",
       "    </tr>\n",
       "    <tr>\n",
       "      <th>4</th>\n",
       "      <td>Elon Musk tweets 'Wild $T1mes' after Tesla hit...</td>\n",
       "      <td>Tesla CEO and the world's richest person Elon ...</td>\n",
       "      <td>business</td>\n",
       "    </tr>\n",
       "  </tbody>\n",
       "</table>\n",
       "</div>"
      ],
      "text/plain": [
       "                                               title  \\\n",
       "0  India's Covaxin may get WHO approval in next 2...   \n",
       "1  Which companies have $1 trillion or more marke...   \n",
       "2  I decided to support Doge as it felt like the ...   \n",
       "3   How many years did it take for various compan...   \n",
       "4  Elon Musk tweets 'Wild $T1mes' after Tesla hit...   \n",
       "\n",
       "                                             content     topic  \n",
       "0  A WHO technical advisory group which met on Tu...  business  \n",
       "1  Tesla has become the latest company to surpass...  business  \n",
       "2  Tesla CEO and the world's richest person Elon ...  business  \n",
       "3  Tesla took 18 years to hit the $1-trillion m-c...  business  \n",
       "4  Tesla CEO and the world's richest person Elon ...  business  "
      ]
     },
     "execution_count": 67,
     "metadata": {},
     "output_type": "execute_result"
    }
   ],
   "source": [
    "df.head()"
   ]
  },
  {
   "cell_type": "code",
   "execution_count": 68,
   "id": "80df89c6-5933-4a3d-ada5-0bcded39e685",
   "metadata": {},
   "outputs": [],
   "source": [
    "# import and test out functions\n",
    "import acquire as a\n",
    "\n",
    "# ignore warnings\n",
    "import warnings\n",
    "warnings.filterwarnings(\"ignore\")"
   ]
  },
  {
   "cell_type": "code",
   "execution_count": 69,
   "id": "28c3f5e4-a2d2-4495-9d36-5d365e3bc1ac",
   "metadata": {},
   "outputs": [],
   "source": [
    "urls = [\n",
    "    'https://codeup.com/data-science/why-you-should-become-a-data-scientist/',\n",
    "    'https://codeup.com/data-science/math-in-data-science/',\n",
    "    'https://codeup.com/data-science/transition-into-data-science/',\n",
    "    'https://codeup.com/data-science/data-science-career/',\n",
    "    'https://codeup.com/data-science/what-is-python/'\n",
    "]"
   ]
  },
  {
   "cell_type": "code",
   "execution_count": 70,
   "id": "981c3876-fe91-4e3a-bf8d-72d78cd7f922",
   "metadata": {},
   "outputs": [
    {
     "data": {
      "text/html": [
       "<div>\n",
       "<style scoped>\n",
       "    .dataframe tbody tr th:only-of-type {\n",
       "        vertical-align: middle;\n",
       "    }\n",
       "\n",
       "    .dataframe tbody tr th {\n",
       "        vertical-align: top;\n",
       "    }\n",
       "\n",
       "    .dataframe thead th {\n",
       "        text-align: right;\n",
       "    }\n",
       "</style>\n",
       "<table border=\"1\" class=\"dataframe\">\n",
       "  <thead>\n",
       "    <tr style=\"text-align: right;\">\n",
       "      <th></th>\n",
       "      <th>title</th>\n",
       "      <th>content</th>\n",
       "    </tr>\n",
       "  </thead>\n",
       "  <tbody>\n",
       "    <tr>\n",
       "      <th>0</th>\n",
       "      <td>Why You Should Become a Data Scientist</td>\n",
       "      <td>What do you look for in a career? Chances are,...</td>\n",
       "    </tr>\n",
       "    <tr>\n",
       "      <th>1</th>\n",
       "      <td>What are the Math and Stats Principles You Nee...</td>\n",
       "      <td>Coming into our Data Science program, you will...</td>\n",
       "    </tr>\n",
       "    <tr>\n",
       "      <th>2</th>\n",
       "      <td>What is the Transition into Data Science Like?</td>\n",
       "      <td>Alumni Katy Salts and Brandi Reger joined us a...</td>\n",
       "    </tr>\n",
       "    <tr>\n",
       "      <th>3</th>\n",
       "      <td>What Data Science Career is For You?</td>\n",
       "      <td>If you’re struggling to see yourself as a data...</td>\n",
       "    </tr>\n",
       "    <tr>\n",
       "      <th>4</th>\n",
       "      <td>What is Python?</td>\n",
       "      <td>If you’ve been digging around our website or r...</td>\n",
       "    </tr>\n",
       "  </tbody>\n",
       "</table>\n",
       "</div>"
      ],
      "text/plain": [
       "                                               title  \\\n",
       "0             Why You Should Become a Data Scientist   \n",
       "1  What are the Math and Stats Principles You Nee...   \n",
       "2     What is the Transition into Data Science Like?   \n",
       "3               What Data Science Career is For You?   \n",
       "4                                    What is Python?   \n",
       "\n",
       "                                             content  \n",
       "0  What do you look for in a career? Chances are,...  \n",
       "1  Coming into our Data Science program, you will...  \n",
       "2  Alumni Katy Salts and Brandi Reger joined us a...  \n",
       "3  If you’re struggling to see yourself as a data...  \n",
       "4  If you’ve been digging around our website or r...  "
      ]
     },
     "execution_count": 70,
     "metadata": {},
     "output_type": "execute_result"
    }
   ],
   "source": [
    "a.get_blog_articles(urls, 'Codeup Data Science Germain Cohort')"
   ]
  },
  {
   "cell_type": "code",
   "execution_count": 71,
   "id": "f3dbf635-c7b2-49ed-826c-656618f08783",
   "metadata": {},
   "outputs": [],
   "source": [
    "topics = [\n",
    "    'business',\n",
    "    'sports',\n",
    "    'technology',\n",
    "    'entertainment'\n",
    "]"
   ]
  },
  {
   "cell_type": "code",
   "execution_count": 72,
   "id": "9c3077a3-6b25-4cd3-9334-7029f9d01652",
   "metadata": {},
   "outputs": [
    {
     "data": {
      "text/html": [
       "<div>\n",
       "<style scoped>\n",
       "    .dataframe tbody tr th:only-of-type {\n",
       "        vertical-align: middle;\n",
       "    }\n",
       "\n",
       "    .dataframe tbody tr th {\n",
       "        vertical-align: top;\n",
       "    }\n",
       "\n",
       "    .dataframe thead th {\n",
       "        text-align: right;\n",
       "    }\n",
       "</style>\n",
       "<table border=\"1\" class=\"dataframe\">\n",
       "  <thead>\n",
       "    <tr style=\"text-align: right;\">\n",
       "      <th></th>\n",
       "      <th>title</th>\n",
       "      <th>content</th>\n",
       "      <th>topic</th>\n",
       "    </tr>\n",
       "  </thead>\n",
       "  <tbody>\n",
       "    <tr>\n",
       "      <th>0</th>\n",
       "      <td>India's Covaxin may get WHO approval in next 2...</td>\n",
       "      <td>A WHO technical advisory group which met on Tu...</td>\n",
       "      <td>business</td>\n",
       "    </tr>\n",
       "    <tr>\n",
       "      <th>1</th>\n",
       "      <td>Which companies have $1 trillion or more marke...</td>\n",
       "      <td>Tesla has become the latest company to surpass...</td>\n",
       "      <td>business</td>\n",
       "    </tr>\n",
       "    <tr>\n",
       "      <th>2</th>\n",
       "      <td>I decided to support Doge as it felt like the ...</td>\n",
       "      <td>Tesla CEO and the world's richest person Elon ...</td>\n",
       "      <td>business</td>\n",
       "    </tr>\n",
       "    <tr>\n",
       "      <th>3</th>\n",
       "      <td>How many years did it take for various compan...</td>\n",
       "      <td>Tesla took 18 years to hit the $1-trillion m-c...</td>\n",
       "      <td>business</td>\n",
       "    </tr>\n",
       "    <tr>\n",
       "      <th>4</th>\n",
       "      <td>Elon Musk tweets 'Wild $T1mes' after Tesla hit...</td>\n",
       "      <td>Tesla CEO and the world's richest person Elon ...</td>\n",
       "      <td>business</td>\n",
       "    </tr>\n",
       "    <tr>\n",
       "      <th>...</th>\n",
       "      <td>...</td>\n",
       "      <td>...</td>\n",
       "      <td>...</td>\n",
       "    </tr>\n",
       "    <tr>\n",
       "      <th>95</th>\n",
       "      <td>Snoop Dogg's mother passes away, rapper posts ...</td>\n",
       "      <td>Rapper Snoop Dogg on Sunday revealed that his ...</td>\n",
       "      <td>entertainment</td>\n",
       "    </tr>\n",
       "    <tr>\n",
       "      <th>96</th>\n",
       "      <td>Jr NTR's fan injured in accident, actor helps ...</td>\n",
       "      <td>A fan of Telugu actor Jr NTR was injured in a ...</td>\n",
       "      <td>entertainment</td>\n",
       "    </tr>\n",
       "    <tr>\n",
       "      <th>97</th>\n",
       "      <td>Web is more streamlined and fair as compared t...</td>\n",
       "      <td>Actress Kritika Kamra, who was seen in the web...</td>\n",
       "      <td>entertainment</td>\n",
       "    </tr>\n",
       "    <tr>\n",
       "      <th>98</th>\n",
       "      <td>I'm so overwhelmed: B Praak on winning Nationa...</td>\n",
       "      <td>Singer B Praak, speaking about winning the Nat...</td>\n",
       "      <td>entertainment</td>\n",
       "    </tr>\n",
       "    <tr>\n",
       "      <th>99</th>\n",
       "      <td>Emilia Clarke, Chiwetel Ejiofor to star in 'Th...</td>\n",
       "      <td>'Game of Thrones' star Emilia Clarke and Oscar...</td>\n",
       "      <td>entertainment</td>\n",
       "    </tr>\n",
       "  </tbody>\n",
       "</table>\n",
       "<p>100 rows × 3 columns</p>\n",
       "</div>"
      ],
      "text/plain": [
       "                                                title  \\\n",
       "0   India's Covaxin may get WHO approval in next 2...   \n",
       "1   Which companies have $1 trillion or more marke...   \n",
       "2   I decided to support Doge as it felt like the ...   \n",
       "3    How many years did it take for various compan...   \n",
       "4   Elon Musk tweets 'Wild $T1mes' after Tesla hit...   \n",
       "..                                                ...   \n",
       "95  Snoop Dogg's mother passes away, rapper posts ...   \n",
       "96  Jr NTR's fan injured in accident, actor helps ...   \n",
       "97  Web is more streamlined and fair as compared t...   \n",
       "98  I'm so overwhelmed: B Praak on winning Nationa...   \n",
       "99  Emilia Clarke, Chiwetel Ejiofor to star in 'Th...   \n",
       "\n",
       "                                              content          topic  \n",
       "0   A WHO technical advisory group which met on Tu...       business  \n",
       "1   Tesla has become the latest company to surpass...       business  \n",
       "2   Tesla CEO and the world's richest person Elon ...       business  \n",
       "3   Tesla took 18 years to hit the $1-trillion m-c...       business  \n",
       "4   Tesla CEO and the world's richest person Elon ...       business  \n",
       "..                                                ...            ...  \n",
       "95  Rapper Snoop Dogg on Sunday revealed that his ...  entertainment  \n",
       "96  A fan of Telugu actor Jr NTR was injured in a ...  entertainment  \n",
       "97  Actress Kritika Kamra, who was seen in the web...  entertainment  \n",
       "98  Singer B Praak, speaking about winning the Nat...  entertainment  \n",
       "99  'Game of Thrones' star Emilia Clarke and Oscar...  entertainment  \n",
       "\n",
       "[100 rows x 3 columns]"
      ]
     },
     "execution_count": 72,
     "metadata": {},
     "output_type": "execute_result"
    }
   ],
   "source": [
    "a.get_articles(topics, 'https://inshorts.com/en/read/', 'Codeup Data Science Germain Cohort')"
   ]
  },
  {
   "cell_type": "markdown",
   "id": "2a45b0e1-0bb3-466d-9444-288fadf1c10a",
   "metadata": {},
   "source": [
    "## Bonus"
   ]
  },
  {
   "cell_type": "markdown",
   "id": "5869b16a-09fd-4a8d-a9d7-f8deb533a7f9",
   "metadata": {},
   "source": [
    "Bonus: cache the data\n",
    "\n",
    "Write your code such that the acquired data is saved locally in some form or fashion. Your functions that retrieve the data should prefer to read the local data instead of having to make all the requests everytime the function is called. Include a boolean flag in the functions to allow the data to be acquired \"fresh\" from the actual sources (re-writing your local cache)."
   ]
  }
 ],
 "metadata": {
  "kernelspec": {
   "display_name": "Python 3",
   "language": "python",
   "name": "python3"
  },
  "language_info": {
   "codemirror_mode": {
    "name": "ipython",
    "version": 3
   },
   "file_extension": ".py",
   "mimetype": "text/x-python",
   "name": "python",
   "nbconvert_exporter": "python",
   "pygments_lexer": "ipython3",
   "version": "3.8.8"
  }
 },
 "nbformat": 4,
 "nbformat_minor": 5
}
