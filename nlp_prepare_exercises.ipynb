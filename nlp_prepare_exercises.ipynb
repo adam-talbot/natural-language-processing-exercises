{
 "cells": [
  {
   "cell_type": "markdown",
   "id": "d772bbb0-b549-4aaf-bd7b-6b72c8347827",
   "metadata": {},
   "source": [
    "---\n",
    "# NLP Prepare Exercises\n",
    "---"
   ]
  },
  {
   "cell_type": "markdown",
   "id": "24780773-d083-4f41-9570-9506297f8d75",
   "metadata": {},
   "source": [
    "The end result of this exercise should be a file named `prepare.py` that defines the requested functions.\n",
    "\n",
    "In this exercise we will be defining some functions to prepare textual data. These functions should apply equally well to both the codeup blog articles and the news articles that were previously acquired."
   ]
  },
  {
   "cell_type": "markdown",
   "id": "163064aa-a4f1-400a-8aeb-4a1a6b676f42",
   "metadata": {},
   "source": [
    "---\n",
    "## 1."
   ]
  },
  {
   "cell_type": "markdown",
   "id": "da2c2b5b-788b-4e3a-bc24-9192eab9d7b3",
   "metadata": {},
   "source": [
    "Define a function named `basic_clean`. It should take in a string and apply some basic text cleaning to it:\n",
    "- Lowercase everything\n",
    "- Normalize unicode characters\n",
    "- Replace anything that is not a letter, number, whitespace or a single quote."
   ]
  },
  {
   "cell_type": "markdown",
   "id": "497e5b85-8c88-4d51-a000-f0cc7b77c822",
   "metadata": {},
   "source": [
    "---\n",
    "## 2."
   ]
  },
  {
   "cell_type": "markdown",
   "id": "53af0ce0-a48d-42d8-af02-37bb99084a3a",
   "metadata": {},
   "source": [
    "Define a function named `tokenize`. It should take in a string and tokenize all the words in the string."
   ]
  },
  {
   "cell_type": "markdown",
   "id": "355e0f1c-ea52-4c09-83b3-ebefbd5db9bb",
   "metadata": {},
   "source": [
    "---\n",
    "## 3."
   ]
  },
  {
   "cell_type": "markdown",
   "id": "fb81960d-48a8-47e8-967d-1ca9003da5b0",
   "metadata": {},
   "source": [
    "Define a function named `stem`. It should accept some text and return the text after applying stemming to all the words."
   ]
  },
  {
   "cell_type": "markdown",
   "id": "199b1633-36fb-4f70-b038-b5b8fecfac31",
   "metadata": {},
   "source": [
    "---\n",
    "## 4."
   ]
  },
  {
   "cell_type": "markdown",
   "id": "3fc3e59e-4a03-428e-ad09-d26a7af50ae3",
   "metadata": {},
   "source": [
    "Define a function named `lemmatize`. It should accept some text and return the text after applying lemmatization to each word."
   ]
  },
  {
   "cell_type": "markdown",
   "id": "8e05eb88-4736-4512-80e6-b38f6b7d9edb",
   "metadata": {},
   "source": [
    "## 5."
   ]
  },
  {
   "cell_type": "markdown",
   "id": "5433b0f1-f8bd-4385-9fa0-e97350448b47",
   "metadata": {},
   "source": [
    "Define a function named `remove_stopwords`. It should accept some text and return the text after removing all the stopwords.\n",
    "- This function should define two optional parameters, `extra_words` and `exclude_words`. These parameters should define any additional stop words to include, and any words that we *don't* want to remove."
   ]
  },
  {
   "cell_type": "markdown",
   "id": "ab721a02-5cdc-425a-aa13-b5e6128d8207",
   "metadata": {},
   "source": [
    "## 6."
   ]
  },
  {
   "cell_type": "markdown",
   "id": "7f9adbc5-19e2-4c18-a3c1-3b91988ef88e",
   "metadata": {},
   "source": [
    "Use your data from the acquire to produce a dataframe of the news articles. Name the dataframe `news_df`."
   ]
  },
  {
   "cell_type": "markdown",
   "id": "debaf4a8-3ae2-4693-a8c3-53bec53119b8",
   "metadata": {},
   "source": [
    "## 7."
   ]
  },
  {
   "cell_type": "markdown",
   "id": "0e6e8e47-3614-45b8-9493-dba0aab0c3d7",
   "metadata": {},
   "source": [
    "Make another dataframe for the Codeup blog posts. Name the dataframe `codeup_df`."
   ]
  },
  {
   "cell_type": "markdown",
   "id": "67cdea2d-9aa1-41e4-a7bb-2a19d900b0b4",
   "metadata": {},
   "source": [
    "## 8."
   ]
  },
  {
   "cell_type": "markdown",
   "id": "e50f2484-db8b-440e-b0aa-685585ce305c",
   "metadata": {},
   "source": [
    "For each dataframe, produce the following columns:\n",
    "- `title` to hold the title\n",
    "- `original` to hold the original article/post content\n",
    "- `clean` to hold the normalized and tokenized original with the stopwords removed.\n",
    "- `stemmed` to hold the stemmed version of the cleaned data.\n",
    "- `lemmatized` to hold the lemmatized version of the cleaned data."
   ]
  },
  {
   "cell_type": "markdown",
   "id": "9b65ceb5-8cf2-4e4b-becf-be121cdd8c84",
   "metadata": {},
   "source": [
    "## 9."
   ]
  },
  {
   "cell_type": "markdown",
   "id": "4d3b344d-c416-44ec-b71e-1bf122784945",
   "metadata": {},
   "source": [
    "Ask yourself:\n",
    "- If your corpus is 493KB, would you prefer to use stemmed or lemmatized text?\n",
    "- If your corpus is 25MB, would you prefer to use stemmed or lemmatized text?\n",
    "- If your corpus is 200TB of text and you're charged by the megabyte for your hosted computational resources, would you prefer to use stemmed or lemmatized text?"
   ]
  }
 ],
 "metadata": {
  "kernelspec": {
   "display_name": "Python 3",
   "language": "python",
   "name": "python3"
  },
  "language_info": {
   "codemirror_mode": {
    "name": "ipython",
    "version": 3
   },
   "file_extension": ".py",
   "mimetype": "text/x-python",
   "name": "python",
   "nbconvert_exporter": "python",
   "pygments_lexer": "ipython3",
   "version": "3.8.8"
  }
 },
 "nbformat": 4,
 "nbformat_minor": 5
}
