{
 "cells": [
  {
   "cell_type": "markdown",
   "id": "24f73bfd-5ac0-450e-b6d2-5b547f8b17c8",
   "metadata": {},
   "source": [
    "---\n",
    "# NLP Explore Exercises\n",
    "---"
   ]
  },
  {
   "cell_type": "code",
   "execution_count": 1,
   "id": "3e10cfe2-9633-4f46-b890-1e47684f7736",
   "metadata": {},
   "outputs": [],
   "source": [
    "import matplotlib.pyplot as plt\n",
    "import seaborn as sns\n",
    "import pandas as pd\n",
    "import nltk\n",
    "import unicodedata\n",
    "import re\n",
    "plt.rc('figure', figsize=(13, 7))\n",
    "plt.style.use('seaborn-darkgrid')\n",
    "import acquire as a\n",
    "import prepare as p"
   ]
  },
  {
   "cell_type": "markdown",
   "id": "6de0ae17-8237-4b45-9093-a1488bbf4add",
   "metadata": {},
   "source": [
    "---\n",
    "## 1."
   ]
  },
  {
   "cell_type": "markdown",
   "id": "162e5de4-0351-4350-be54-17f64ed08fba",
   "metadata": {},
   "source": [
    "Spam Data\n",
    "- Load the spam data set."
   ]
  },
  {
   "cell_type": "code",
   "execution_count": 2,
   "id": "dafd73c1-b61d-4bb1-bf00-7c76fb9c2c4d",
   "metadata": {},
   "outputs": [
    {
     "data": {
      "text/html": [
       "<div>\n",
       "<style scoped>\n",
       "    .dataframe tbody tr th:only-of-type {\n",
       "        vertical-align: middle;\n",
       "    }\n",
       "\n",
       "    .dataframe tbody tr th {\n",
       "        vertical-align: top;\n",
       "    }\n",
       "\n",
       "    .dataframe thead th {\n",
       "        text-align: right;\n",
       "    }\n",
       "</style>\n",
       "<table border=\"1\" class=\"dataframe\">\n",
       "  <thead>\n",
       "    <tr style=\"text-align: right;\">\n",
       "      <th></th>\n",
       "      <th>label</th>\n",
       "      <th>text</th>\n",
       "    </tr>\n",
       "    <tr>\n",
       "      <th>id</th>\n",
       "      <th></th>\n",
       "      <th></th>\n",
       "    </tr>\n",
       "  </thead>\n",
       "  <tbody>\n",
       "    <tr>\n",
       "      <th>0</th>\n",
       "      <td>ham</td>\n",
       "      <td>Go until jurong point, crazy.. Available only ...</td>\n",
       "    </tr>\n",
       "    <tr>\n",
       "      <th>1</th>\n",
       "      <td>ham</td>\n",
       "      <td>Ok lar... Joking wif u oni...</td>\n",
       "    </tr>\n",
       "    <tr>\n",
       "      <th>2</th>\n",
       "      <td>spam</td>\n",
       "      <td>Free entry in 2 a wkly comp to win FA Cup fina...</td>\n",
       "    </tr>\n",
       "    <tr>\n",
       "      <th>3</th>\n",
       "      <td>ham</td>\n",
       "      <td>U dun say so early hor... U c already then say...</td>\n",
       "    </tr>\n",
       "    <tr>\n",
       "      <th>4</th>\n",
       "      <td>ham</td>\n",
       "      <td>Nah I don't think he goes to usf, he lives aro...</td>\n",
       "    </tr>\n",
       "  </tbody>\n",
       "</table>\n",
       "</div>"
      ],
      "text/plain": [
       "   label                                               text\n",
       "id                                                         \n",
       "0    ham  Go until jurong point, crazy.. Available only ...\n",
       "1    ham                      Ok lar... Joking wif u oni...\n",
       "2   spam  Free entry in 2 a wkly comp to win FA Cup fina...\n",
       "3    ham  U dun say so early hor... U c already then say...\n",
       "4    ham  Nah I don't think he goes to usf, he lives aro..."
      ]
     },
     "execution_count": 2,
     "metadata": {},
     "output_type": "execute_result"
    }
   ],
   "source": [
    "#acquire data from spam_db\n",
    "\n",
    "from env import user, password, host\n",
    "\n",
    "def get_db_url(database, host=host, user=user, password=password):\n",
    "    return f'mysql+pymysql://{user}:{password}@{host}/{database}'\n",
    "\n",
    "\n",
    "url = get_db_url(\"spam_db\")\n",
    "sql = \"SELECT * FROM spam\"\n",
    "\n",
    "df = pd.read_sql(sql, url, index_col=\"id\")\n",
    "df.head()"
   ]
  },
  {
   "cell_type": "code",
   "execution_count": 3,
   "id": "4bcf6e7b-9f35-4e14-86c3-72af56e4fce3",
   "metadata": {},
   "outputs": [
    {
     "data": {
      "text/plain": [
       "(5572, 2)"
      ]
     },
     "execution_count": 3,
     "metadata": {},
     "output_type": "execute_result"
    }
   ],
   "source": [
    "df.shape"
   ]
  },
  {
   "cell_type": "code",
   "execution_count": 4,
   "id": "9d728585-0c73-4e9d-a3f6-d756972b1d7e",
   "metadata": {},
   "outputs": [],
   "source": [
    "# # do a little cleaning before getting started\n",
    "# df = p.prep_nlp(df, original_text_col = 'text')"
   ]
  },
  {
   "cell_type": "code",
   "execution_count": 5,
   "id": "1087028d-df86-48da-9f3d-33b7c55fa5b1",
   "metadata": {},
   "outputs": [],
   "source": [
    "df['clean'] = df.text.apply(p.basic_clean_spam).apply(p.tokenize)"
   ]
  },
  {
   "cell_type": "code",
   "execution_count": 6,
   "id": "f3ac541f-838c-48a1-8871-fe076e022f4f",
   "metadata": {},
   "outputs": [
    {
     "data": {
      "text/html": [
       "<div>\n",
       "<style scoped>\n",
       "    .dataframe tbody tr th:only-of-type {\n",
       "        vertical-align: middle;\n",
       "    }\n",
       "\n",
       "    .dataframe tbody tr th {\n",
       "        vertical-align: top;\n",
       "    }\n",
       "\n",
       "    .dataframe thead th {\n",
       "        text-align: right;\n",
       "    }\n",
       "</style>\n",
       "<table border=\"1\" class=\"dataframe\">\n",
       "  <thead>\n",
       "    <tr style=\"text-align: right;\">\n",
       "      <th></th>\n",
       "      <th>label</th>\n",
       "      <th>text</th>\n",
       "      <th>clean</th>\n",
       "    </tr>\n",
       "    <tr>\n",
       "      <th>id</th>\n",
       "      <th></th>\n",
       "      <th></th>\n",
       "      <th></th>\n",
       "    </tr>\n",
       "  </thead>\n",
       "  <tbody>\n",
       "    <tr>\n",
       "      <th>0</th>\n",
       "      <td>ham</td>\n",
       "      <td>Go until jurong point, crazy.. Available only ...</td>\n",
       "      <td>go until jurong point crazy available only in ...</td>\n",
       "    </tr>\n",
       "    <tr>\n",
       "      <th>1</th>\n",
       "      <td>ham</td>\n",
       "      <td>Ok lar... Joking wif u oni...</td>\n",
       "      <td>ok lar joking wif u oni</td>\n",
       "    </tr>\n",
       "    <tr>\n",
       "      <th>2</th>\n",
       "      <td>spam</td>\n",
       "      <td>Free entry in 2 a wkly comp to win FA Cup fina...</td>\n",
       "      <td>free entry in 2 a wkly comp to win fa cup fina...</td>\n",
       "    </tr>\n",
       "    <tr>\n",
       "      <th>3</th>\n",
       "      <td>ham</td>\n",
       "      <td>U dun say so early hor... U c already then say...</td>\n",
       "      <td>u dun say so early hor u c already then say</td>\n",
       "    </tr>\n",
       "    <tr>\n",
       "      <th>4</th>\n",
       "      <td>ham</td>\n",
       "      <td>Nah I don't think he goes to usf, he lives aro...</td>\n",
       "      <td>nah i dont think he goes to usf he lives aroun...</td>\n",
       "    </tr>\n",
       "  </tbody>\n",
       "</table>\n",
       "</div>"
      ],
      "text/plain": [
       "   label                                               text  \\\n",
       "id                                                            \n",
       "0    ham  Go until jurong point, crazy.. Available only ...   \n",
       "1    ham                      Ok lar... Joking wif u oni...   \n",
       "2   spam  Free entry in 2 a wkly comp to win FA Cup fina...   \n",
       "3    ham  U dun say so early hor... U c already then say...   \n",
       "4    ham  Nah I don't think he goes to usf, he lives aro...   \n",
       "\n",
       "                                                clean  \n",
       "id                                                     \n",
       "0   go until jurong point crazy available only in ...  \n",
       "1                             ok lar joking wif u oni  \n",
       "2   free entry in 2 a wkly comp to win fa cup fina...  \n",
       "3         u dun say so early hor u c already then say  \n",
       "4   nah i dont think he goes to usf he lives aroun...  "
      ]
     },
     "execution_count": 6,
     "metadata": {},
     "output_type": "execute_result"
    }
   ],
   "source": [
    "df.head()"
   ]
  },
  {
   "cell_type": "code",
   "execution_count": 7,
   "id": "77c88955-8e5d-40b5-8bc1-b6ca442df4e0",
   "metadata": {},
   "outputs": [
    {
     "data": {
      "text/plain": [
       "ham     0.865937\n",
       "spam    0.134063\n",
       "Name: label, dtype: float64"
      ]
     },
     "execution_count": 7,
     "metadata": {},
     "output_type": "execute_result"
    }
   ],
   "source": [
    "# take a look at value counts\n",
    "df.label.value_counts(normalize=True)"
   ]
  },
  {
   "cell_type": "markdown",
   "id": "7ab6b680-fddb-43f4-92dc-17876877a366",
   "metadata": {},
   "source": [
    "Imbalanced classes, keep this in mind moving forward"
   ]
  },
  {
   "cell_type": "markdown",
   "id": "12bc8ad1-cbf1-4660-a4eb-1752e8f5aa8e",
   "metadata": {},
   "source": [
    "- Create and explore bigrams for the spam data. Visualize them with a word cloud. How do they compare with the ham bigrams?"
   ]
  },
  {
   "cell_type": "code",
   "execution_count": 8,
   "id": "682619c4-2016-47fe-b2d7-7de649e8c95d",
   "metadata": {},
   "outputs": [
    {
     "data": {
      "text/plain": [
       "[('go', 'until'),\n",
       " ('until', 'jurong'),\n",
       " ('jurong', 'point'),\n",
       " ('point', 'crazy'),\n",
       " ('crazy', 'available'),\n",
       " ('available', 'only'),\n",
       " ('only', 'in'),\n",
       " ('in', 'bugis'),\n",
       " ('bugis', 'n'),\n",
       " ('n', 'great'),\n",
       " ('great', 'world'),\n",
       " ('world', 'la'),\n",
       " ('la', 'e'),\n",
       " ('e', 'buffet'),\n",
       " ('buffet', 'cine'),\n",
       " ('cine', 'there'),\n",
       " ('there', 'got'),\n",
       " ('got', 'amore'),\n",
       " ('amore', 'wat')]"
      ]
     },
     "execution_count": 8,
     "metadata": {},
     "output_type": "execute_result"
    }
   ],
   "source": [
    "list(nltk.bigrams(df.clean[0].split()))"
   ]
  },
  {
   "cell_type": "code",
   "execution_count": 9,
   "id": "82b8a8ba-36dc-4a4d-a5e1-f3f64fd3bda9",
   "metadata": {},
   "outputs": [],
   "source": [
    "# combine all words from each label as a single corpus\n",
    "ham_words = ' '.join(df[df.label == 'ham'].clean)\n",
    "spam_words = ' '.join(df[df.label == 'spam'].clean)\n",
    "all_words = ' '.join(df.clean)"
   ]
  },
  {
   "cell_type": "code",
   "execution_count": 10,
   "id": "b4032985-f72e-4f0a-a5ce-13d3234adba7",
   "metadata": {},
   "outputs": [
    {
     "data": {
      "image/png": "[encoded data removed]",
      "text/plain": [
       "<Figure size 936x504 with 1 Axes>"
      ]
     },
     "metadata": {},
     "output_type": "display_data"
    }
   ],
   "source": [
    "# find most common bigrams for each subset\n",
    "pd.Series(nltk.bigrams(spam_words.split())).value_counts().head(10).plot.barh()\n",
    "plt.title('Top 10 most common spam bigrams');"
   ]
  },
  {
   "cell_type": "code",
   "execution_count": 12,
   "id": "61a582bd-0a19-497d-ab01-2ae0bdbe5312",
   "metadata": {},
   "outputs": [],
   "source": [
    "# let's see how this varies when removing stopwords\n",
    "df['clean_no_sws'] = df.clean.apply(p.remove_stopwords)"
   ]
  },
  {
   "cell_type": "code",
   "execution_count": 13,
   "id": "70b53fbe-69f7-4f23-acb7-4629e7a4c53b",
   "metadata": {},
   "outputs": [
    {
     "data": {
      "text/html": [
       "<div>\n",
       "<style scoped>\n",
       "    .dataframe tbody tr th:only-of-type {\n",
       "        vertical-align: middle;\n",
       "    }\n",
       "\n",
       "    .dataframe tbody tr th {\n",
       "        vertical-align: top;\n",
       "    }\n",
       "\n",
       "    .dataframe thead th {\n",
       "        text-align: right;\n",
       "    }\n",
       "</style>\n",
       "<table border=\"1\" class=\"dataframe\">\n",
       "  <thead>\n",
       "    <tr style=\"text-align: right;\">\n",
       "      <th></th>\n",
       "      <th>label</th>\n",
       "      <th>text</th>\n",
       "      <th>clean</th>\n",
       "      <th>clean_no_sws</th>\n",
       "    </tr>\n",
       "    <tr>\n",
       "      <th>id</th>\n",
       "      <th></th>\n",
       "      <th></th>\n",
       "      <th></th>\n",
       "      <th></th>\n",
       "    </tr>\n",
       "  </thead>\n",
       "  <tbody>\n",
       "    <tr>\n",
       "      <th>0</th>\n",
       "      <td>ham</td>\n",
       "      <td>Go until jurong point, crazy.. Available only ...</td>\n",
       "      <td>go until jurong point crazy available only in ...</td>\n",
       "      <td>go jurong point crazy available bugis n great ...</td>\n",
       "    </tr>\n",
       "    <tr>\n",
       "      <th>1</th>\n",
       "      <td>ham</td>\n",
       "      <td>Ok lar... Joking wif u oni...</td>\n",
       "      <td>ok lar joking wif u oni</td>\n",
       "      <td>ok lar joking wif u oni</td>\n",
       "    </tr>\n",
       "    <tr>\n",
       "      <th>2</th>\n",
       "      <td>spam</td>\n",
       "      <td>Free entry in 2 a wkly comp to win FA Cup fina...</td>\n",
       "      <td>free entry in 2 a wkly comp to win fa cup fina...</td>\n",
       "      <td>free entry 2 wkly comp win fa cup final tkts 2...</td>\n",
       "    </tr>\n",
       "    <tr>\n",
       "      <th>3</th>\n",
       "      <td>ham</td>\n",
       "      <td>U dun say so early hor... U c already then say...</td>\n",
       "      <td>u dun say so early hor u c already then say</td>\n",
       "      <td>u dun say early hor u c already say</td>\n",
       "    </tr>\n",
       "    <tr>\n",
       "      <th>4</th>\n",
       "      <td>ham</td>\n",
       "      <td>Nah I don't think he goes to usf, he lives aro...</td>\n",
       "      <td>nah i dont think he goes to usf he lives aroun...</td>\n",
       "      <td>nah dont think goes usf lives around though</td>\n",
       "    </tr>\n",
       "  </tbody>\n",
       "</table>\n",
       "</div>"
      ],
      "text/plain": [
       "   label                                               text  \\\n",
       "id                                                            \n",
       "0    ham  Go until jurong point, crazy.. Available only ...   \n",
       "1    ham                      Ok lar... Joking wif u oni...   \n",
       "2   spam  Free entry in 2 a wkly comp to win FA Cup fina...   \n",
       "3    ham  U dun say so early hor... U c already then say...   \n",
       "4    ham  Nah I don't think he goes to usf, he lives aro...   \n",
       "\n",
       "                                                clean  \\\n",
       "id                                                      \n",
       "0   go until jurong point crazy available only in ...   \n",
       "1                             ok lar joking wif u oni   \n",
       "2   free entry in 2 a wkly comp to win fa cup fina...   \n",
       "3         u dun say so early hor u c already then say   \n",
       "4   nah i dont think he goes to usf he lives aroun...   \n",
       "\n",
       "                                         clean_no_sws  \n",
       "id                                                     \n",
       "0   go jurong point crazy available bugis n great ...  \n",
       "1                             ok lar joking wif u oni  \n",
       "2   free entry 2 wkly comp win fa cup final tkts 2...  \n",
       "3                 u dun say early hor u c already say  \n",
       "4         nah dont think goes usf lives around though  "
      ]
     },
     "execution_count": 13,
     "metadata": {},
     "output_type": "execute_result"
    }
   ],
   "source": [
    "df.head()"
   ]
  },
  {
   "cell_type": "code",
   "execution_count": 14,
   "id": "e292ab2b-99ca-4157-b559-7eab2dbb991b",
   "metadata": {},
   "outputs": [],
   "source": [
    "# combine all words from each label as a single corpus\n",
    "ham_words = ' '.join(df[df.label == 'ham'].clean_no_sws)\n",
    "spam_words = ' '.join(df[df.label == 'spam'].clean_no_sws)\n",
    "all_words = ' '.join(df.clean_no_sws)"
   ]
  },
  {
   "cell_type": "code",
   "execution_count": 15,
   "id": "f6098e08-4134-4529-b44c-c2dad84332e8",
   "metadata": {},
   "outputs": [
    {
     "data": {
      "image/png": "[encoded data removed]",
      "text/plain": [
       "<Figure size 936x504 with 1 Axes>"
      ]
     },
     "metadata": {},
     "output_type": "display_data"
    }
   ],
   "source": [
    "# find most common bigrams for each subset\n",
    "pd.Series(nltk.bigrams(spam_words.split())).value_counts().head(10).plot.barh()\n",
    "plt.title('Top 10 most common spam bigrams');"
   ]
  },
  {
   "cell_type": "code",
   "execution_count": 39,
   "id": "6cd0b6d9-6641-461c-bdae-301dfa8b807c",
   "metadata": {},
   "outputs": [
    {
     "data": {
      "text/plain": [
       "12589"
      ]
     },
     "execution_count": 39,
     "metadata": {},
     "output_type": "execute_result"
    }
   ],
   "source": [
    "len(spam_words.split())"
   ]
  },
  {
   "cell_type": "code",
   "execution_count": null,
   "id": "c74f195f-6942-4d8a-a725-a516e0db79da",
   "metadata": {},
   "outputs": [],
   "source": []
  },
  {
   "cell_type": "code",
   "execution_count": null,
   "id": "98097708-00ca-4e1b-a950-c7d8d894182f",
   "metadata": {},
   "outputs": [],
   "source": []
  },
  {
   "cell_type": "markdown",
   "id": "25071190-f1bc-4849-84a6-7bfad9dddbce",
   "metadata": {},
   "source": [
    "- Is there any overlap in the bigrams for the spam data and the ham data?"
   ]
  },
  {
   "cell_type": "markdown",
   "id": "99c82719-06b0-4d07-8109-c952d1987930",
   "metadata": {},
   "source": [
    "- Create and explore with trigrams (i.e. a n-gram with an n of 3) for both the spam and ham data."
   ]
  },
  {
   "cell_type": "markdown",
   "id": "794ed434-cfc5-4f8a-b01f-dc5eca6687c3",
   "metadata": {},
   "source": [
    "---\n",
    "## 2."
   ]
  },
  {
   "cell_type": "markdown",
   "id": "de9adcfa-ae75-415b-80f0-759f88dcab57",
   "metadata": {},
   "source": [
    "Explore the blog articles using the techniques discussed in the exploration lesson."
   ]
  },
  {
   "cell_type": "markdown",
   "id": "69ae452e-8cb5-4a84-a243-aae89c1dbe47",
   "metadata": {},
   "source": [
    "---\n",
    "## 3."
   ]
  },
  {
   "cell_type": "markdown",
   "id": "2d812a80-78f4-4861-aeaf-0feed1d76d7a",
   "metadata": {},
   "source": [
    "Explore the news articles using the techniques discussed in the exploration lesson. Use the category variable when exploring."
   ]
  },
  {
   "cell_type": "code",
   "execution_count": null,
   "id": "658b4582-b508-46d0-9840-1ea217d8289d",
   "metadata": {},
   "outputs": [],
   "source": []
  }
 ],
 "metadata": {
  "kernelspec": {
   "display_name": "Python 3",
   "language": "python",
   "name": "python3"
  },
  "language_info": {
   "codemirror_mode": {
    "name": "ipython",
    "version": 3
   },
   "file_extension": ".py",
   "mimetype": "text/x-python",
   "name": "python",
   "nbconvert_exporter": "python",
   "pygments_lexer": "ipython3",
   "version": "3.8.8"
  }
 },
 "nbformat": 4,
 "nbformat_minor": 5
}
